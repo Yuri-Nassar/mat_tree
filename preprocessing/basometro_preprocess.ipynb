{
 "cells": [
  {
   "cell_type": "markdown",
   "metadata": {},
   "source": [
    "# Ler pacotes"
   ]
  },
  {
   "cell_type": "code",
   "execution_count": 41,
   "metadata": {},
   "outputs": [],
   "source": [
    "import os"
   ]
  },
  {
   "cell_type": "code",
   "execution_count": 42,
   "metadata": {},
   "outputs": [
    {
     "name": "stdout",
     "output_type": "stream",
     "text": [
      "Working locally.\n",
      "current path:g:\\Meu Drive\\Colab Notebooks\\mat_tree\\preprocessing.\n"
     ]
    }
   ],
   "source": [
    "current_path = os.getcwd()\n",
    "if current_path.split('/')[-1] == 'content':\n",
    "  %pip install trajminer -q\n",
    "\n",
    "  from google.colab import drive\n",
    "\n",
    "  drive.mount('/content/drive')\n",
    "  print(f\"current path:{current_path}. Moving to the project path.\")\n",
    "  os.chdir(\"drive/MyDrive/Colab Notebooks/mat_tree/\")\n",
    "  print(f\"Current path: {os.getcwd()}\")\n",
    "else:\n",
    "  print(\"Working locally.\")\n",
    "  print(f\"current path:{current_path}.\")"
   ]
  },
  {
   "cell_type": "code",
   "execution_count": 43,
   "metadata": {},
   "outputs": [],
   "source": [
    "import pandas as pd\n",
    "import numpy as np\n",
    "import plotly.express as px\n",
    "\n",
    "# import trajminer as tm\n",
    "# from trajminer.similarity import MSM, MUITAS\n",
    "# from trajminer.utils.distance import discrete, euclidean\n",
    "# from tqdm import tqdm\n",
    "# from multiprocessing import Pool, cpu_count\n",
    "\n",
    "# from scipy.spatial.distance import euclidean"
   ]
  },
  {
   "cell_type": "markdown",
   "metadata": {},
   "source": [
    "# Ler dataset"
   ]
  },
  {
   "cell_type": "code",
   "execution_count": 99,
   "metadata": {},
   "outputs": [],
   "source": [
    "dtypes = {'UF':'string', 'voto':'string', 'orientacaoGoverno':'string', 'anoProposicao':'int32',\n",
    "          'anoVotacao':'int32', 'tipoProposicao':'string', 'governo':'string', 'parlamentar':'string',\n",
    "        #   'data':'datetime64[ns]',\n",
    "           'idVotacao':'string', 'tid':'int64', 'label':'string', 'horaVotacao':'int32', 'diaDaSemanaVotacao':'int32', 'diaDaSemanaVotacaoNome':'string', 'diaDoAno':'int32', 'diaDoMesVotacao':'int32', 'mesVotacao': 'int32', 'delayVotacaoAnos':'int32', 'alinhamento':'string'}\n",
    "dataset_path = \"../datasets/basometro/\"\n",
    "basometro_df = pd.read_csv(dataset_path+'basometro.csv', encoding='latin-1', dtype=dtypes, parse_dates=['data'])"
   ]
  },
  {
   "cell_type": "code",
   "execution_count": 45,
   "metadata": {},
   "outputs": [
    {
     "data": {
      "text/html": [
       "<div>\n",
       "<style scoped>\n",
       "    .dataframe tbody tr th:only-of-type {\n",
       "        vertical-align: middle;\n",
       "    }\n",
       "\n",
       "    .dataframe tbody tr th {\n",
       "        vertical-align: top;\n",
       "    }\n",
       "\n",
       "    .dataframe thead th {\n",
       "        text-align: right;\n",
       "    }\n",
       "</style>\n",
       "<table border=\"1\" class=\"dataframe\">\n",
       "  <thead>\n",
       "    <tr style=\"text-align: right;\">\n",
       "      <th></th>\n",
       "      <th>UF</th>\n",
       "      <th>voto</th>\n",
       "      <th>orientacaoGoverno</th>\n",
       "      <th>anoProposicao</th>\n",
       "      <th>anoVotacao</th>\n",
       "      <th>tipoProposicao</th>\n",
       "      <th>governo</th>\n",
       "      <th>parlamentar</th>\n",
       "      <th>data</th>\n",
       "      <th>idVotacao</th>\n",
       "      <th>tid</th>\n",
       "      <th>label</th>\n",
       "      <th>horaVotacao</th>\n",
       "      <th>diaDaSemanaVotacao</th>\n",
       "      <th>diaDaSemanaVotacaoNome</th>\n",
       "      <th>diaDoAno</th>\n",
       "      <th>diaDoMesVotacao</th>\n",
       "      <th>mesVotacao</th>\n",
       "      <th>delayVotacaoAnos</th>\n",
       "      <th>alinhamento</th>\n",
       "    </tr>\n",
       "  </thead>\n",
       "  <tbody>\n",
       "    <tr>\n",
       "      <th>0</th>\n",
       "      <td>PR</td>\n",
       "      <td>Sim</td>\n",
       "      <td>Sim</td>\n",
       "      <td>2002</td>\n",
       "      <td>2003</td>\n",
       "      <td>MSC</td>\n",
       "      <td>Lula 1</td>\n",
       "      <td>Abelardo Lupion</td>\n",
       "      <td>2003-02-25 18:54:00</td>\n",
       "      <td>25-2-2003.18.54.736</td>\n",
       "      <td>5318</td>\n",
       "      <td>DEM</td>\n",
       "      <td>18</td>\n",
       "      <td>1</td>\n",
       "      <td>Tuesday</td>\n",
       "      <td>56</td>\n",
       "      <td>25</td>\n",
       "      <td>2</td>\n",
       "      <td>1</td>\n",
       "      <td>votou com o governo</td>\n",
       "    </tr>\n",
       "    <tr>\n",
       "      <th>1</th>\n",
       "      <td>PR</td>\n",
       "      <td>Sim</td>\n",
       "      <td>Sim</td>\n",
       "      <td>2002</td>\n",
       "      <td>2003</td>\n",
       "      <td>MPV</td>\n",
       "      <td>Lula 1</td>\n",
       "      <td>Abelardo Lupion</td>\n",
       "      <td>2003-03-18 19:30:00</td>\n",
       "      <td>18-3-2003.19.30.742</td>\n",
       "      <td>5318</td>\n",
       "      <td>DEM</td>\n",
       "      <td>19</td>\n",
       "      <td>1</td>\n",
       "      <td>Tuesday</td>\n",
       "      <td>77</td>\n",
       "      <td>18</td>\n",
       "      <td>3</td>\n",
       "      <td>1</td>\n",
       "      <td>votou com o governo</td>\n",
       "    </tr>\n",
       "    <tr>\n",
       "      <th>2</th>\n",
       "      <td>PR</td>\n",
       "      <td>Sim</td>\n",
       "      <td>Não</td>\n",
       "      <td>1996</td>\n",
       "      <td>2003</td>\n",
       "      <td>PL</td>\n",
       "      <td>Lula 1</td>\n",
       "      <td>Abelardo Lupion</td>\n",
       "      <td>2003-03-19 18:37:00</td>\n",
       "      <td>19-3-2003.18.37.743</td>\n",
       "      <td>5318</td>\n",
       "      <td>DEM</td>\n",
       "      <td>18</td>\n",
       "      <td>2</td>\n",
       "      <td>Wednesday</td>\n",
       "      <td>78</td>\n",
       "      <td>19</td>\n",
       "      <td>3</td>\n",
       "      <td>7</td>\n",
       "      <td>votou contra o governo</td>\n",
       "    </tr>\n",
       "  </tbody>\n",
       "</table>\n",
       "</div>"
      ],
      "text/plain": [
       "   UF voto orientacaoGoverno  anoProposicao  anoVotacao tipoProposicao  \\\n",
       "0  PR  Sim               Sim           2002        2003            MSC   \n",
       "1  PR  Sim               Sim           2002        2003            MPV   \n",
       "2  PR  Sim               Não           1996        2003             PL   \n",
       "\n",
       "  governo      parlamentar                data            idVotacao   tid  \\\n",
       "0  Lula 1  Abelardo Lupion 2003-02-25 18:54:00  25-2-2003.18.54.736  5318   \n",
       "1  Lula 1  Abelardo Lupion 2003-03-18 19:30:00  18-3-2003.19.30.742  5318   \n",
       "2  Lula 1  Abelardo Lupion 2003-03-19 18:37:00  19-3-2003.18.37.743  5318   \n",
       "\n",
       "  label  horaVotacao  diaDaSemanaVotacao diaDaSemanaVotacaoNome  diaDoAno  \\\n",
       "0   DEM           18                   1                Tuesday        56   \n",
       "1   DEM           19                   1                Tuesday        77   \n",
       "2   DEM           18                   2              Wednesday        78   \n",
       "\n",
       "   diaDoMesVotacao  mesVotacao  delayVotacaoAnos             alinhamento  \n",
       "0               25           2                 1     votou com o governo  \n",
       "1               18           3                 1     votou com o governo  \n",
       "2               19           3                 7  votou contra o governo  "
      ]
     },
     "execution_count": 45,
     "metadata": {},
     "output_type": "execute_result"
    }
   ],
   "source": [
    "basometro_df.head(3)"
   ]
  },
  {
   "cell_type": "code",
   "execution_count": 46,
   "metadata": {},
   "outputs": [],
   "source": [
    "# basometro_df.info()"
   ]
  },
  {
   "cell_type": "markdown",
   "metadata": {},
   "source": [
    "# Preprocessing"
   ]
  },
  {
   "cell_type": "markdown",
   "metadata": {},
   "source": [
    "## Métodos auxiliares"
   ]
  },
  {
   "cell_type": "code",
   "execution_count": 47,
   "metadata": {},
   "outputs": [],
   "source": [
    "def convert_idVotacao(x):\n",
    "    \"\"\"Método para extrair o ano presente no idVotacao\"\"\"\n",
    "    try:\n",
    "        return int(x['idVotacao'].split(\".\")[0].split(\"-\")[-1])\n",
    "    except:\n",
    "        return int(x['idVotacao'].split(\".\")[-1])"
   ]
  },
  {
   "cell_type": "code",
   "execution_count": 48,
   "metadata": {},
   "outputs": [],
   "source": [
    "def get_periodo_mandato(ano_votacao):\n",
    "    \"\"\"Método para saber o período de mandado eleito com base no ano da votação.\"\"\"\n",
    "    if (ano_votacao >= 2003) and (ano_votacao <= 2006):\n",
    "        return \"2003-2006\"\n",
    "    elif (ano_votacao >= 2007) and (ano_votacao <= 2010):\n",
    "        return \"2007-2010\"\n",
    "    elif (ano_votacao >= 2011) and (ano_votacao <= 2014):\n",
    "        return \"2011-2014\"\n",
    "    elif (ano_votacao >= 2015) and (ano_votacao <= 2018):\n",
    "        return \"2015-2018\"\n",
    "    elif (ano_votacao >= 2019) and (ano_votacao <= 2022):\n",
    "        return \"2019-2022\"\n",
    "    else:\n",
    "        return \"outros\""
   ]
  },
  {
   "cell_type": "markdown",
   "metadata": {},
   "source": [
    "## Feature engineering: alinhamento intra partidário"
   ]
  },
  {
   "cell_type": "markdown",
   "metadata": {},
   "source": [
    "### Calcular a quantidade total de deputados por partido no período de mandado da presidencia."
   ]
  },
  {
   "cell_type": "code",
   "execution_count": 49,
   "metadata": {},
   "outputs": [
    {
     "data": {
      "text/html": [
       "<div>\n",
       "<style scoped>\n",
       "    .dataframe tbody tr th:only-of-type {\n",
       "        vertical-align: middle;\n",
       "    }\n",
       "\n",
       "    .dataframe tbody tr th {\n",
       "        vertical-align: top;\n",
       "    }\n",
       "\n",
       "    .dataframe thead th {\n",
       "        text-align: right;\n",
       "    }\n",
       "</style>\n",
       "<table border=\"1\" class=\"dataframe\">\n",
       "  <thead>\n",
       "    <tr style=\"text-align: right;\">\n",
       "      <th></th>\n",
       "      <th>label</th>\n",
       "      <th>periodo_mandato</th>\n",
       "      <th>qtd_parlamentares_partido</th>\n",
       "    </tr>\n",
       "  </thead>\n",
       "  <tbody>\n",
       "    <tr>\n",
       "      <th>0</th>\n",
       "      <td>Avante</td>\n",
       "      <td>2007-2010</td>\n",
       "      <td>1</td>\n",
       "    </tr>\n",
       "    <tr>\n",
       "      <th>1</th>\n",
       "      <td>Avante</td>\n",
       "      <td>2011-2014</td>\n",
       "      <td>2</td>\n",
       "    </tr>\n",
       "    <tr>\n",
       "      <th>2</th>\n",
       "      <td>Avante</td>\n",
       "      <td>2015-2018</td>\n",
       "      <td>7</td>\n",
       "    </tr>\n",
       "    <tr>\n",
       "      <th>3</th>\n",
       "      <td>Avante</td>\n",
       "      <td>2019-2022</td>\n",
       "      <td>8</td>\n",
       "    </tr>\n",
       "    <tr>\n",
       "      <th>4</th>\n",
       "      <td>Cidadania</td>\n",
       "      <td>2003-2006</td>\n",
       "      <td>33</td>\n",
       "    </tr>\n",
       "  </tbody>\n",
       "</table>\n",
       "</div>"
      ],
      "text/plain": [
       "       label periodo_mandato  qtd_parlamentares_partido\n",
       "0     Avante       2007-2010                          1\n",
       "1     Avante       2011-2014                          2\n",
       "2     Avante       2015-2018                          7\n",
       "3     Avante       2019-2022                          8\n",
       "4  Cidadania       2003-2006                         33"
      ]
     },
     "metadata": {},
     "output_type": "display_data"
    }
   ],
   "source": [
    "tmp = basometro_df[['label','anoVotacao','parlamentar']].copy()\n",
    "tmp['periodo_mandato'] = tmp.apply(lambda x: get_periodo_mandato(x['anoVotacao']),axis=1)\n",
    "tmp = tmp.sort_values(by=['label','anoVotacao'])\n",
    "# display(tmp.head(3))\n",
    "\n",
    "### Calculando o atributo qtd_parlamentares_partido.\n",
    "### Com a agregação abaixo nós queremos saber quantos parlamentares eleitos cada partido tinha em cada período de mandato.\n",
    "df_tamanho_partidos = tmp.drop_duplicates(subset=['label','parlamentar','periodo_mandato'])[['label','periodo_mandato','parlamentar']] \\\n",
    "   .groupby(by=['label','periodo_mandato']).agg(qtd_parlamentares_partido = ('parlamentar','count')).reset_index()\n",
    "display(df_tamanho_partidos.head())"
   ]
  },
  {
   "cell_type": "code",
   "execution_count": 50,
   "metadata": {},
   "outputs": [],
   "source": [
    "# del tmp\n",
    "\n",
    "### transformar df em dict para acelerar consulta\n",
    "dict_tamanho_partidos = {}\n",
    "for i, row in df_tamanho_partidos.iterrows():\n",
    "    if row['label'] in dict_tamanho_partidos:\n",
    "        dict_tamanho_partidos[row['label']][row['periodo_mandato']] = row['qtd_parlamentares_partido']\n",
    "    else:\n",
    "        dict_tamanho_partidos.update({row['label']:{}})\n",
    "        dict_tamanho_partidos[row['label']][row['periodo_mandato']] = row['qtd_parlamentares_partido']\n",
    "# del df_tamanho_partidos"
   ]
  },
  {
   "cell_type": "markdown",
   "metadata": {},
   "source": [
    "### Calcular a quantidade de votos por Partido, idVotacao e Proposição.\n",
    "\n",
    "O tipo de voto pode ser: Sim, Não, Obstrução, Abstenção e Ausente.\n",
    "\n",
    "Problema de duplicatas. Olhar seção 'Problemas' para detalhes."
   ]
  },
  {
   "cell_type": "code",
   "execution_count": 51,
   "metadata": {},
   "outputs": [
    {
     "name": "stdout",
     "output_type": "stream",
     "text": [
      "(99075, 5)\n"
     ]
    },
    {
     "data": {
      "text/html": [
       "<div>\n",
       "<style scoped>\n",
       "    .dataframe tbody tr th:only-of-type {\n",
       "        vertical-align: middle;\n",
       "    }\n",
       "\n",
       "    .dataframe tbody tr th {\n",
       "        vertical-align: top;\n",
       "    }\n",
       "\n",
       "    .dataframe thead th {\n",
       "        text-align: right;\n",
       "    }\n",
       "</style>\n",
       "<table border=\"1\" class=\"dataframe\">\n",
       "  <thead>\n",
       "    <tr style=\"text-align: right;\">\n",
       "      <th></th>\n",
       "      <th>label</th>\n",
       "      <th>idVotacao</th>\n",
       "      <th>tipoProposicao</th>\n",
       "      <th>voto</th>\n",
       "      <th>count</th>\n",
       "    </tr>\n",
       "  </thead>\n",
       "  <tbody>\n",
       "    <tr>\n",
       "      <th>0</th>\n",
       "      <td>Avante</td>\n",
       "      <td>1-10-2019.00.20.16943</td>\n",
       "      <td>PL</td>\n",
       "      <td>Não</td>\n",
       "      <td>2</td>\n",
       "    </tr>\n",
       "    <tr>\n",
       "      <th>1</th>\n",
       "      <td>Avante</td>\n",
       "      <td>1-12-2021.17.21.17189</td>\n",
       "      <td>PL</td>\n",
       "      <td>Sim</td>\n",
       "      <td>1</td>\n",
       "    </tr>\n",
       "    <tr>\n",
       "      <th>2</th>\n",
       "      <td>Avante</td>\n",
       "      <td>1-12-2021.17.39.17189</td>\n",
       "      <td>PL</td>\n",
       "      <td>Sim</td>\n",
       "      <td>1</td>\n",
       "    </tr>\n",
       "    <tr>\n",
       "      <th>3</th>\n",
       "      <td>Avante</td>\n",
       "      <td>1-12-2021.17.54.17189</td>\n",
       "      <td>PL</td>\n",
       "      <td>Sim</td>\n",
       "      <td>1</td>\n",
       "    </tr>\n",
       "    <tr>\n",
       "      <th>4</th>\n",
       "      <td>Avante</td>\n",
       "      <td>1-4-2009.16.30.3673</td>\n",
       "      <td>MPV</td>\n",
       "      <td>Não</td>\n",
       "      <td>1</td>\n",
       "    </tr>\n",
       "    <tr>\n",
       "      <th>5</th>\n",
       "      <td>Avante</td>\n",
       "      <td>1-4-2009.19.23.3673</td>\n",
       "      <td>MPV</td>\n",
       "      <td>Sim</td>\n",
       "      <td>1</td>\n",
       "    </tr>\n",
       "    <tr>\n",
       "      <th>6</th>\n",
       "      <td>Avante</td>\n",
       "      <td>1-7-2021.12.04.17120</td>\n",
       "      <td>PL</td>\n",
       "      <td>Sim</td>\n",
       "      <td>1</td>\n",
       "    </tr>\n",
       "    <tr>\n",
       "      <th>7</th>\n",
       "      <td>Avante</td>\n",
       "      <td>1-7-2021.12.24.17120</td>\n",
       "      <td>PL</td>\n",
       "      <td>Sim</td>\n",
       "      <td>1</td>\n",
       "    </tr>\n",
       "    <tr>\n",
       "      <th>8</th>\n",
       "      <td>Avante</td>\n",
       "      <td>1-7-2021.13.22.17120</td>\n",
       "      <td>PL</td>\n",
       "      <td>Sim</td>\n",
       "      <td>2</td>\n",
       "    </tr>\n",
       "    <tr>\n",
       "      <th>9</th>\n",
       "      <td>Avante</td>\n",
       "      <td>1-8-2017.18.14.16274</td>\n",
       "      <td>MPV</td>\n",
       "      <td>Não</td>\n",
       "      <td>1</td>\n",
       "    </tr>\n",
       "  </tbody>\n",
       "</table>\n",
       "</div>"
      ],
      "text/plain": [
       "    label              idVotacao tipoProposicao voto  count\n",
       "0  Avante  1-10-2019.00.20.16943             PL  Não      2\n",
       "1  Avante  1-12-2021.17.21.17189             PL  Sim      1\n",
       "2  Avante  1-12-2021.17.39.17189             PL  Sim      1\n",
       "3  Avante  1-12-2021.17.54.17189             PL  Sim      1\n",
       "4  Avante    1-4-2009.16.30.3673            MPV  Não      1\n",
       "5  Avante    1-4-2009.19.23.3673            MPV  Sim      1\n",
       "6  Avante   1-7-2021.12.04.17120             PL  Sim      1\n",
       "7  Avante   1-7-2021.12.24.17120             PL  Sim      1\n",
       "8  Avante   1-7-2021.13.22.17120             PL  Sim      2\n",
       "9  Avante   1-8-2017.18.14.16274            MPV  Não      1"
      ]
     },
     "execution_count": 51,
     "metadata": {},
     "output_type": "execute_result"
    }
   ],
   "source": [
    "\n",
    "df_clean_tmp = basometro_df.drop_duplicates(subset=['idVotacao','parlamentar'])\n",
    "\n",
    "tmp_gp = df_clean_tmp.groupby(['label','idVotacao','tipoProposicao','voto']).agg(count = ('voto','count')) \\\n",
    "         .reset_index() \\\n",
    "         .sort_values(by=['label','idVotacao','tipoProposicao'])\n",
    "\n",
    "print(tmp_gp.shape)\n",
    "tmp_gp.head(10)"
   ]
  },
  {
   "cell_type": "markdown",
   "metadata": {},
   "source": [
    "Pivotar o resultado do groupby para em seguida calcular as proporções de votos Sim e Não do partido."
   ]
  },
  {
   "cell_type": "code",
   "execution_count": 52,
   "metadata": {},
   "outputs": [
    {
     "name": "stdout",
     "output_type": "stream",
     "text": [
      "(69913, 9)\n"
     ]
    },
    {
     "data": {
      "text/html": [
       "<div>\n",
       "<style scoped>\n",
       "    .dataframe tbody tr th:only-of-type {\n",
       "        vertical-align: middle;\n",
       "    }\n",
       "\n",
       "    .dataframe tbody tr th {\n",
       "        vertical-align: top;\n",
       "    }\n",
       "\n",
       "    .dataframe thead th {\n",
       "        text-align: right;\n",
       "    }\n",
       "</style>\n",
       "<table border=\"1\" class=\"dataframe\">\n",
       "  <thead>\n",
       "    <tr style=\"text-align: right;\">\n",
       "      <th></th>\n",
       "      <th>label</th>\n",
       "      <th>ano</th>\n",
       "      <th>idVotacao</th>\n",
       "      <th>tipoProposicao</th>\n",
       "      <th>Abstenção</th>\n",
       "      <th>Obstrução</th>\n",
       "      <th>AUSENTE</th>\n",
       "      <th>Não</th>\n",
       "      <th>Sim</th>\n",
       "    </tr>\n",
       "  </thead>\n",
       "  <tbody>\n",
       "    <tr>\n",
       "      <th>4</th>\n",
       "      <td>Avante</td>\n",
       "      <td>2009</td>\n",
       "      <td>1-4-2009.16.30.3673</td>\n",
       "      <td>MPV</td>\n",
       "      <td>0</td>\n",
       "      <td>0</td>\n",
       "      <td>0</td>\n",
       "      <td>1</td>\n",
       "      <td>0</td>\n",
       "    </tr>\n",
       "    <tr>\n",
       "      <th>5</th>\n",
       "      <td>Avante</td>\n",
       "      <td>2009</td>\n",
       "      <td>1-4-2009.19.23.3673</td>\n",
       "      <td>MPV</td>\n",
       "      <td>0</td>\n",
       "      <td>0</td>\n",
       "      <td>0</td>\n",
       "      <td>0</td>\n",
       "      <td>1</td>\n",
       "    </tr>\n",
       "    <tr>\n",
       "      <th>10</th>\n",
       "      <td>Avante</td>\n",
       "      <td>2009</td>\n",
       "      <td>1-9-2009.17.17.3812</td>\n",
       "      <td>MPV</td>\n",
       "      <td>0</td>\n",
       "      <td>0</td>\n",
       "      <td>0</td>\n",
       "      <td>1</td>\n",
       "      <td>0</td>\n",
       "    </tr>\n",
       "    <tr>\n",
       "      <th>37</th>\n",
       "      <td>Avante</td>\n",
       "      <td>2009</td>\n",
       "      <td>10-11-2009.18.25.3883</td>\n",
       "      <td>MPV</td>\n",
       "      <td>0</td>\n",
       "      <td>0</td>\n",
       "      <td>0</td>\n",
       "      <td>1</td>\n",
       "      <td>0</td>\n",
       "    </tr>\n",
       "    <tr>\n",
       "      <th>38</th>\n",
       "      <td>Avante</td>\n",
       "      <td>2009</td>\n",
       "      <td>10-11-2009.19.54.3883</td>\n",
       "      <td>MPV</td>\n",
       "      <td>0</td>\n",
       "      <td>0</td>\n",
       "      <td>0</td>\n",
       "      <td>1</td>\n",
       "      <td>0</td>\n",
       "    </tr>\n",
       "  </tbody>\n",
       "</table>\n",
       "</div>"
      ],
      "text/plain": [
       "     label   ano              idVotacao tipoProposicao Abstenção Obstrução  \\\n",
       "4   Avante  2009    1-4-2009.16.30.3673            MPV         0         0   \n",
       "5   Avante  2009    1-4-2009.19.23.3673            MPV         0         0   \n",
       "10  Avante  2009    1-9-2009.17.17.3812            MPV         0         0   \n",
       "37  Avante  2009  10-11-2009.18.25.3883            MPV         0         0   \n",
       "38  Avante  2009  10-11-2009.19.54.3883            MPV         0         0   \n",
       "\n",
       "   AUSENTE Não Sim  \n",
       "4        0   1   0  \n",
       "5        0   0   1  \n",
       "10       0   1   0  \n",
       "37       0   1   0  \n",
       "38       0   1   0  "
      ]
     },
     "metadata": {},
     "output_type": "display_data"
    },
    {
     "data": {
      "text/html": [
       "<div>\n",
       "<style scoped>\n",
       "    .dataframe tbody tr th:only-of-type {\n",
       "        vertical-align: middle;\n",
       "    }\n",
       "\n",
       "    .dataframe tbody tr th {\n",
       "        vertical-align: top;\n",
       "    }\n",
       "\n",
       "    .dataframe thead th {\n",
       "        text-align: right;\n",
       "    }\n",
       "</style>\n",
       "<table border=\"1\" class=\"dataframe\">\n",
       "  <thead>\n",
       "    <tr style=\"text-align: right;\">\n",
       "      <th></th>\n",
       "      <th>label</th>\n",
       "      <th>ano</th>\n",
       "      <th>idVotacao</th>\n",
       "      <th>tipoProposicao</th>\n",
       "      <th>Abstenção</th>\n",
       "      <th>Obstrução</th>\n",
       "      <th>AUSENTE</th>\n",
       "      <th>Não</th>\n",
       "      <th>Sim</th>\n",
       "    </tr>\n",
       "  </thead>\n",
       "  <tbody>\n",
       "    <tr>\n",
       "      <th>1934</th>\n",
       "      <td>Avante</td>\n",
       "      <td>2022</td>\n",
       "      <td>9-2-2022.20.50.17206</td>\n",
       "      <td>PL</td>\n",
       "      <td>0</td>\n",
       "      <td>0</td>\n",
       "      <td>0</td>\n",
       "      <td>4</td>\n",
       "      <td>0</td>\n",
       "    </tr>\n",
       "    <tr>\n",
       "      <th>1935</th>\n",
       "      <td>Avante</td>\n",
       "      <td>2022</td>\n",
       "      <td>9-2-2022.21.35.17206</td>\n",
       "      <td>MPV</td>\n",
       "      <td>0</td>\n",
       "      <td>0</td>\n",
       "      <td>0</td>\n",
       "      <td>3</td>\n",
       "      <td>0</td>\n",
       "    </tr>\n",
       "    <tr>\n",
       "      <th>1936</th>\n",
       "      <td>Avante</td>\n",
       "      <td>2022</td>\n",
       "      <td>9-3-2022.21.04.17215</td>\n",
       "      <td>REQ</td>\n",
       "      <td>0</td>\n",
       "      <td>0</td>\n",
       "      <td>0</td>\n",
       "      <td>0</td>\n",
       "      <td>4</td>\n",
       "    </tr>\n",
       "    <tr>\n",
       "      <th>1937</th>\n",
       "      <td>Avante</td>\n",
       "      <td>2022</td>\n",
       "      <td>9-3-2022.22.02.17215</td>\n",
       "      <td>PEC</td>\n",
       "      <td>0</td>\n",
       "      <td>0</td>\n",
       "      <td>0</td>\n",
       "      <td>0</td>\n",
       "      <td>4</td>\n",
       "    </tr>\n",
       "    <tr>\n",
       "      <th>1938</th>\n",
       "      <td>Avante</td>\n",
       "      <td>2022</td>\n",
       "      <td>9-3-2022.22.11.17215</td>\n",
       "      <td>PEC</td>\n",
       "      <td>0</td>\n",
       "      <td>0</td>\n",
       "      <td>0</td>\n",
       "      <td>0</td>\n",
       "      <td>4</td>\n",
       "    </tr>\n",
       "  </tbody>\n",
       "</table>\n",
       "</div>"
      ],
      "text/plain": [
       "       label   ano             idVotacao tipoProposicao Abstenção Obstrução  \\\n",
       "1934  Avante  2022  9-2-2022.20.50.17206             PL         0         0   \n",
       "1935  Avante  2022  9-2-2022.21.35.17206            MPV         0         0   \n",
       "1936  Avante  2022  9-3-2022.21.04.17215            REQ         0         0   \n",
       "1937  Avante  2022  9-3-2022.22.02.17215            PEC         0         0   \n",
       "1938  Avante  2022  9-3-2022.22.11.17215            PEC         0         0   \n",
       "\n",
       "     AUSENTE Não Sim  \n",
       "1934       0   4   0  \n",
       "1935       0   3   0  \n",
       "1936       0   0   4  \n",
       "1937       0   0   4  \n",
       "1938       0   0   4  "
      ]
     },
     "metadata": {},
     "output_type": "display_data"
    }
   ],
   "source": [
    "table = pd.pivot_table(tmp_gp, values=['count'], index=['label','idVotacao','tipoProposicao'], columns=['voto'],\n",
    "                       aggfunc='sum', fill_value=0).reset_index().reset_index(drop=True).values\n",
    "\n",
    "table = pd.DataFrame(table, columns=['label','idVotacao','tipoProposicao','Abstenção','Obstrução','Não','AUSENTE','Sim'])\n",
    "table['ano'] = table.apply(lambda x: convert_idVotacao(x),axis=1)\n",
    "reorder_cols = ['label','ano','idVotacao','tipoProposicao','Abstenção','Obstrução','AUSENTE','Não','Sim']\n",
    "table = table[reorder_cols].sort_values(by=['label','ano'])\n",
    "\n",
    "print(table.shape)\n",
    "display(table.head(5))\n",
    "display(table[table['label']=='Avante'].tail(5))"
   ]
  },
  {
   "cell_type": "code",
   "execution_count": 53,
   "metadata": {},
   "outputs": [],
   "source": [
    "# del tmp_gp"
   ]
  },
  {
   "cell_type": "markdown",
   "metadata": {},
   "source": [
    "Inserindo atributos para uma nova tabela"
   ]
  },
  {
   "cell_type": "code",
   "execution_count": 70,
   "metadata": {},
   "outputs": [
    {
     "data": {
      "text/html": [
       "<div>\n",
       "<style scoped>\n",
       "    .dataframe tbody tr th:only-of-type {\n",
       "        vertical-align: middle;\n",
       "    }\n",
       "\n",
       "    .dataframe tbody tr th {\n",
       "        vertical-align: top;\n",
       "    }\n",
       "\n",
       "    .dataframe thead th {\n",
       "        text-align: right;\n",
       "    }\n",
       "</style>\n",
       "<table border=\"1\" class=\"dataframe\">\n",
       "  <thead>\n",
       "    <tr style=\"text-align: right;\">\n",
       "      <th></th>\n",
       "      <th>label</th>\n",
       "      <th>idVotacao</th>\n",
       "      <th>ano</th>\n",
       "      <th>periodo_mandato</th>\n",
       "      <th>tipoProposicao</th>\n",
       "      <th>Abstenção</th>\n",
       "      <th>Obstrução</th>\n",
       "      <th>AUSENTE</th>\n",
       "      <th>ausente_calculado</th>\n",
       "      <th>Não</th>\n",
       "      <th>Sim</th>\n",
       "      <th>total_votos</th>\n",
       "      <th>qtd_parlamentares_partido</th>\n",
       "      <th>partido_voto_sim_%</th>\n",
       "      <th>partido_voto_nao_%</th>\n",
       "      <th>partido_voto_abstencao_%</th>\n",
       "      <th>partido_voto_obstrucao_%</th>\n",
       "      <th>partido_voto_ausente_%</th>\n",
       "    </tr>\n",
       "  </thead>\n",
       "  <tbody>\n",
       "    <tr>\n",
       "      <th>69908</th>\n",
       "      <td>União</td>\n",
       "      <td>7-4-2022.13.20.17230</td>\n",
       "      <td>2022</td>\n",
       "      <td>2019-2022</td>\n",
       "      <td>PL</td>\n",
       "      <td>0</td>\n",
       "      <td>0</td>\n",
       "      <td>0</td>\n",
       "      <td>55</td>\n",
       "      <td>29</td>\n",
       "      <td>2</td>\n",
       "      <td>31</td>\n",
       "      <td>86</td>\n",
       "      <td>2.33</td>\n",
       "      <td>33.72</td>\n",
       "      <td>0.0</td>\n",
       "      <td>0.00</td>\n",
       "      <td>63.95</td>\n",
       "    </tr>\n",
       "    <tr>\n",
       "      <th>69909</th>\n",
       "      <td>União</td>\n",
       "      <td>8-3-2022.20.26.17214</td>\n",
       "      <td>2022</td>\n",
       "      <td>2019-2022</td>\n",
       "      <td>PLP</td>\n",
       "      <td>0</td>\n",
       "      <td>0</td>\n",
       "      <td>0</td>\n",
       "      <td>30</td>\n",
       "      <td>15</td>\n",
       "      <td>41</td>\n",
       "      <td>56</td>\n",
       "      <td>86</td>\n",
       "      <td>47.67</td>\n",
       "      <td>17.44</td>\n",
       "      <td>0.0</td>\n",
       "      <td>0.00</td>\n",
       "      <td>34.88</td>\n",
       "    </tr>\n",
       "    <tr>\n",
       "      <th>69910</th>\n",
       "      <td>União</td>\n",
       "      <td>9-3-2022.21.04.17215</td>\n",
       "      <td>2022</td>\n",
       "      <td>2019-2022</td>\n",
       "      <td>REQ</td>\n",
       "      <td>0</td>\n",
       "      <td>1</td>\n",
       "      <td>0</td>\n",
       "      <td>26</td>\n",
       "      <td>7</td>\n",
       "      <td>52</td>\n",
       "      <td>60</td>\n",
       "      <td>86</td>\n",
       "      <td>60.47</td>\n",
       "      <td>8.14</td>\n",
       "      <td>0.0</td>\n",
       "      <td>1.16</td>\n",
       "      <td>30.23</td>\n",
       "    </tr>\n",
       "    <tr>\n",
       "      <th>69911</th>\n",
       "      <td>União</td>\n",
       "      <td>9-3-2022.22.02.17215</td>\n",
       "      <td>2022</td>\n",
       "      <td>2019-2022</td>\n",
       "      <td>PEC</td>\n",
       "      <td>0</td>\n",
       "      <td>1</td>\n",
       "      <td>0</td>\n",
       "      <td>36</td>\n",
       "      <td>2</td>\n",
       "      <td>47</td>\n",
       "      <td>50</td>\n",
       "      <td>86</td>\n",
       "      <td>54.65</td>\n",
       "      <td>2.33</td>\n",
       "      <td>0.0</td>\n",
       "      <td>1.16</td>\n",
       "      <td>41.86</td>\n",
       "    </tr>\n",
       "    <tr>\n",
       "      <th>69912</th>\n",
       "      <td>União</td>\n",
       "      <td>9-3-2022.22.11.17215</td>\n",
       "      <td>2022</td>\n",
       "      <td>2019-2022</td>\n",
       "      <td>PEC</td>\n",
       "      <td>0</td>\n",
       "      <td>1</td>\n",
       "      <td>0</td>\n",
       "      <td>29</td>\n",
       "      <td>1</td>\n",
       "      <td>55</td>\n",
       "      <td>57</td>\n",
       "      <td>86</td>\n",
       "      <td>63.95</td>\n",
       "      <td>1.16</td>\n",
       "      <td>0.0</td>\n",
       "      <td>1.16</td>\n",
       "      <td>33.72</td>\n",
       "    </tr>\n",
       "  </tbody>\n",
       "</table>\n",
       "</div>"
      ],
      "text/plain": [
       "       label             idVotacao   ano periodo_mandato tipoProposicao  \\\n",
       "69908  União  7-4-2022.13.20.17230  2022       2019-2022             PL   \n",
       "69909  União  8-3-2022.20.26.17214  2022       2019-2022            PLP   \n",
       "69910  União  9-3-2022.21.04.17215  2022       2019-2022            REQ   \n",
       "69911  União  9-3-2022.22.02.17215  2022       2019-2022            PEC   \n",
       "69912  União  9-3-2022.22.11.17215  2022       2019-2022            PEC   \n",
       "\n",
       "      Abstenção Obstrução AUSENTE  ausente_calculado Não Sim  total_votos  \\\n",
       "69908         0         0       0                 55  29   2           31   \n",
       "69909         0         0       0                 30  15  41           56   \n",
       "69910         0         1       0                 26   7  52           60   \n",
       "69911         0         1       0                 36   2  47           50   \n",
       "69912         0         1       0                 29   1  55           57   \n",
       "\n",
       "       qtd_parlamentares_partido  partido_voto_sim_%  partido_voto_nao_%  \\\n",
       "69908                         86                2.33               33.72   \n",
       "69909                         86               47.67               17.44   \n",
       "69910                         86               60.47                8.14   \n",
       "69911                         86               54.65                2.33   \n",
       "69912                         86               63.95                1.16   \n",
       "\n",
       "       partido_voto_abstencao_%  partido_voto_obstrucao_%  \\\n",
       "69908                       0.0                      0.00   \n",
       "69909                       0.0                      0.00   \n",
       "69910                       0.0                      1.16   \n",
       "69911                       0.0                      1.16   \n",
       "69912                       0.0                      1.16   \n",
       "\n",
       "       partido_voto_ausente_%  \n",
       "69908                   63.95  \n",
       "69909                   34.88  \n",
       "69910                   30.23  \n",
       "69911                   41.86  \n",
       "69912                   33.72  "
      ]
     },
     "execution_count": 70,
     "metadata": {},
     "output_type": "execute_result"
    }
   ],
   "source": [
    "lambda_ = lambda x: get_periodo_mandato(convert_idVotacao(x))\n",
    "table['periodo_mandato'] = table.apply(lambda_, axis=1)\n",
    "table['qtd_parlamentares_partido'] = table.apply(lambda x: dict_tamanho_partidos[x['label']][x['periodo_mandato']], axis=1)\n",
    "\n",
    "lambda_ = lambda x: x['qtd_parlamentares_partido']-(x['Abstenção']+x['Obstrução']+x['Não']+x['Sim'])\n",
    "table['ausente_calculado'] = table.apply(lambda_, axis=1)\n",
    "\n",
    "table['total_votos'] = table.apply(lambda x: x['Abstenção']+x['Obstrução']+x['Não']+x['Sim'], axis=1)\n",
    "\n",
    "lambda_ = lambda x: np.round((x['Sim'])/x['qtd_parlamentares_partido']*100,2) if x['qtd_parlamentares_partido']!=0 else 0\n",
    "table['partido_voto_sim_%'] = table.apply(lambda_ ,axis=1)\n",
    "\n",
    "lambda_ = lambda x: np.round((x['Não'])/x['qtd_parlamentares_partido']*100,2) if x['qtd_parlamentares_partido']!=0 else 0\n",
    "table['partido_voto_nao_%'] = table.apply(lambda_ ,axis=1)\n",
    "\n",
    "lambda_ = lambda x: np.round((x['Abstenção'])/x['qtd_parlamentares_partido']*100,2) if x['qtd_parlamentares_partido']!=0 else 0\n",
    "table['partido_voto_abstencao_%'] = table.apply(lambda_ ,axis=1)\n",
    "\n",
    "lambda_ = lambda x: np.round((x['Obstrução'])/x['qtd_parlamentares_partido']*100,2) if x['qtd_parlamentares_partido']!=0 else 0\n",
    "table['partido_voto_obstrucao_%'] = table.apply(lambda_ ,axis=1)\n",
    "\n",
    "lambda_ = lambda x: np.round((x['ausente_calculado'])/x['qtd_parlamentares_partido']*100,2) if x['qtd_parlamentares_partido']!=0 else 0\n",
    "table['partido_voto_ausente_%'] = table.apply(lambda_ ,axis=1)\n",
    "\n",
    "reorder_cols = ['label','idVotacao','ano','periodo_mandato','tipoProposicao','Abstenção','Obstrução','AUSENTE',\n",
    "                'ausente_calculado','Não', 'Sim','total_votos','qtd_parlamentares_partido','partido_voto_sim_%','partido_voto_nao_%', 'partido_voto_abstencao_%', 'partido_voto_obstrucao_%', 'partido_voto_ausente_%']\n",
    "\n",
    "new_table = table[reorder_cols].copy()\n",
    "# new_table.head()\n",
    "new_table.tail()"
   ]
  },
  {
   "cell_type": "code",
   "execution_count": 71,
   "metadata": {},
   "outputs": [
    {
     "data": {
      "text/html": [
       "<div>\n",
       "<style scoped>\n",
       "    .dataframe tbody tr th:only-of-type {\n",
       "        vertical-align: middle;\n",
       "    }\n",
       "\n",
       "    .dataframe tbody tr th {\n",
       "        vertical-align: top;\n",
       "    }\n",
       "\n",
       "    .dataframe thead th {\n",
       "        text-align: right;\n",
       "    }\n",
       "</style>\n",
       "<table border=\"1\" class=\"dataframe\">\n",
       "  <thead>\n",
       "    <tr style=\"text-align: right;\">\n",
       "      <th></th>\n",
       "      <th>total_votos</th>\n",
       "      <th>qtd_parlamentares_partido</th>\n",
       "      <th>partido_voto_sim_%</th>\n",
       "      <th>partido_voto_nao_%</th>\n",
       "      <th>partido_voto_abstencao_%</th>\n",
       "      <th>partido_voto_obstrucao_%</th>\n",
       "      <th>partido_voto_ausente_%</th>\n",
       "    </tr>\n",
       "  </thead>\n",
       "  <tbody>\n",
       "    <tr>\n",
       "      <th>51003</th>\n",
       "      <td>92</td>\n",
       "      <td>107</td>\n",
       "      <td>85.98</td>\n",
       "      <td>0.00</td>\n",
       "      <td>0.0</td>\n",
       "      <td>0.00</td>\n",
       "      <td>14.02</td>\n",
       "    </tr>\n",
       "    <tr>\n",
       "      <th>51004</th>\n",
       "      <td>92</td>\n",
       "      <td>107</td>\n",
       "      <td>83.18</td>\n",
       "      <td>2.80</td>\n",
       "      <td>0.0</td>\n",
       "      <td>0.00</td>\n",
       "      <td>14.02</td>\n",
       "    </tr>\n",
       "    <tr>\n",
       "      <th>50837</th>\n",
       "      <td>91</td>\n",
       "      <td>107</td>\n",
       "      <td>74.77</td>\n",
       "      <td>2.80</td>\n",
       "      <td>0.0</td>\n",
       "      <td>7.48</td>\n",
       "      <td>14.95</td>\n",
       "    </tr>\n",
       "    <tr>\n",
       "      <th>51006</th>\n",
       "      <td>91</td>\n",
       "      <td>107</td>\n",
       "      <td>0.00</td>\n",
       "      <td>82.24</td>\n",
       "      <td>0.0</td>\n",
       "      <td>2.80</td>\n",
       "      <td>14.95</td>\n",
       "    </tr>\n",
       "    <tr>\n",
       "      <th>50193</th>\n",
       "      <td>90</td>\n",
       "      <td>107</td>\n",
       "      <td>74.77</td>\n",
       "      <td>3.74</td>\n",
       "      <td>0.0</td>\n",
       "      <td>5.61</td>\n",
       "      <td>15.89</td>\n",
       "    </tr>\n",
       "  </tbody>\n",
       "</table>\n",
       "</div>"
      ],
      "text/plain": [
       "       total_votos  qtd_parlamentares_partido  partido_voto_sim_%  \\\n",
       "51003           92                        107               85.98   \n",
       "51004           92                        107               83.18   \n",
       "50837           91                        107               74.77   \n",
       "51006           91                        107                0.00   \n",
       "50193           90                        107               74.77   \n",
       "\n",
       "       partido_voto_nao_%  partido_voto_abstencao_%  partido_voto_obstrucao_%  \\\n",
       "51003                0.00                       0.0                      0.00   \n",
       "51004                2.80                       0.0                      0.00   \n",
       "50837                2.80                       0.0                      7.48   \n",
       "51006               82.24                       0.0                      2.80   \n",
       "50193                3.74                       0.0                      5.61   \n",
       "\n",
       "       partido_voto_ausente_%  \n",
       "51003                   14.02  \n",
       "51004                   14.02  \n",
       "50837                   14.95  \n",
       "51006                   14.95  \n",
       "50193                   15.89  "
      ]
     },
     "execution_count": 71,
     "metadata": {},
     "output_type": "execute_result"
    }
   ],
   "source": [
    "drop_cols = ['label', 'idVotacao', 'ano', 'periodo_mandato', 'tipoProposicao', 'Abstenção', 'Obstrução', 'AUSENTE',\n",
    "             'ausente_calculado', 'Não', 'Sim']\n",
    "new_table.drop(columns=drop_cols).sort_values(by=['total_votos'],ascending=False).head()"
   ]
  },
  {
   "cell_type": "markdown",
   "metadata": {},
   "source": [
    "Inferimos a orientação do partido sobre uma votação sendo como maior proporção de votos que a mesma recebeu. Por exemplo, se uma Proposição teve a maior proporção de votos SIM, então a orientação do partido é inferido como votar SIM."
   ]
  },
  {
   "cell_type": "code",
   "execution_count": 92,
   "metadata": {},
   "outputs": [],
   "source": [
    "def get_orientacao_partido_voto(x):\n",
    "    votos = ['partido_voto_sim_%', 'partido_voto_nao_%', 'partido_voto_abstencao_%', 'partido_voto_obstrucao_%',\n",
    "                   'partido_voto_ausente_%']\n",
    "    map_name = {'sim':'Sim', 'nao':'Não', 'abstencao':'Abstenção', 'obstrucao':'Obstrução', 'ausente':'Ausente'}\n",
    "    max_proporcao  = 0\n",
    "    max_voto = ''\n",
    "\n",
    "    for voto in votos:\n",
    "        if x[voto] > max_proporcao:\n",
    "            max_voto = voto.split('_')[-2]\n",
    "            max_proporcao = x[voto]\n",
    "    \n",
    "    return map_name[max_voto]"
   ]
  },
  {
   "cell_type": "code",
   "execution_count": 93,
   "metadata": {},
   "outputs": [
    {
     "data": {
      "text/html": [
       "<div>\n",
       "<style scoped>\n",
       "    .dataframe tbody tr th:only-of-type {\n",
       "        vertical-align: middle;\n",
       "    }\n",
       "\n",
       "    .dataframe tbody tr th {\n",
       "        vertical-align: top;\n",
       "    }\n",
       "\n",
       "    .dataframe thead th {\n",
       "        text-align: right;\n",
       "    }\n",
       "</style>\n",
       "<table border=\"1\" class=\"dataframe\">\n",
       "  <thead>\n",
       "    <tr style=\"text-align: right;\">\n",
       "      <th></th>\n",
       "      <th>total_votos</th>\n",
       "      <th>qtd_parlamentares_partido</th>\n",
       "      <th>partido_voto_sim_%</th>\n",
       "      <th>partido_voto_nao_%</th>\n",
       "      <th>partido_voto_abstencao_%</th>\n",
       "      <th>partido_voto_obstrucao_%</th>\n",
       "      <th>partido_voto_ausente_%</th>\n",
       "      <th>orientacao_partido_voto</th>\n",
       "    </tr>\n",
       "  </thead>\n",
       "  <tbody>\n",
       "    <tr>\n",
       "      <th>69908</th>\n",
       "      <td>31</td>\n",
       "      <td>86</td>\n",
       "      <td>2.33</td>\n",
       "      <td>33.72</td>\n",
       "      <td>0.0</td>\n",
       "      <td>0.00</td>\n",
       "      <td>63.95</td>\n",
       "      <td>Ausente</td>\n",
       "    </tr>\n",
       "    <tr>\n",
       "      <th>69909</th>\n",
       "      <td>56</td>\n",
       "      <td>86</td>\n",
       "      <td>47.67</td>\n",
       "      <td>17.44</td>\n",
       "      <td>0.0</td>\n",
       "      <td>0.00</td>\n",
       "      <td>34.88</td>\n",
       "      <td>Sim</td>\n",
       "    </tr>\n",
       "    <tr>\n",
       "      <th>69910</th>\n",
       "      <td>60</td>\n",
       "      <td>86</td>\n",
       "      <td>60.47</td>\n",
       "      <td>8.14</td>\n",
       "      <td>0.0</td>\n",
       "      <td>1.16</td>\n",
       "      <td>30.23</td>\n",
       "      <td>Sim</td>\n",
       "    </tr>\n",
       "    <tr>\n",
       "      <th>69911</th>\n",
       "      <td>50</td>\n",
       "      <td>86</td>\n",
       "      <td>54.65</td>\n",
       "      <td>2.33</td>\n",
       "      <td>0.0</td>\n",
       "      <td>1.16</td>\n",
       "      <td>41.86</td>\n",
       "      <td>Sim</td>\n",
       "    </tr>\n",
       "    <tr>\n",
       "      <th>69912</th>\n",
       "      <td>57</td>\n",
       "      <td>86</td>\n",
       "      <td>63.95</td>\n",
       "      <td>1.16</td>\n",
       "      <td>0.0</td>\n",
       "      <td>1.16</td>\n",
       "      <td>33.72</td>\n",
       "      <td>Sim</td>\n",
       "    </tr>\n",
       "  </tbody>\n",
       "</table>\n",
       "</div>"
      ],
      "text/plain": [
       "       total_votos  qtd_parlamentares_partido  partido_voto_sim_%  \\\n",
       "69908           31                         86                2.33   \n",
       "69909           56                         86               47.67   \n",
       "69910           60                         86               60.47   \n",
       "69911           50                         86               54.65   \n",
       "69912           57                         86               63.95   \n",
       "\n",
       "       partido_voto_nao_%  partido_voto_abstencao_%  partido_voto_obstrucao_%  \\\n",
       "69908               33.72                       0.0                      0.00   \n",
       "69909               17.44                       0.0                      0.00   \n",
       "69910                8.14                       0.0                      1.16   \n",
       "69911                2.33                       0.0                      1.16   \n",
       "69912                1.16                       0.0                      1.16   \n",
       "\n",
       "       partido_voto_ausente_% orientacao_partido_voto  \n",
       "69908                   63.95                 Ausente  \n",
       "69909                   34.88                     Sim  \n",
       "69910                   30.23                     Sim  \n",
       "69911                   41.86                     Sim  \n",
       "69912                   33.72                     Sim  "
      ]
     },
     "execution_count": 93,
     "metadata": {},
     "output_type": "execute_result"
    }
   ],
   "source": [
    "new_table['orientacao_partido_voto'] = new_table.apply(lambda x: get_orientacao_partido_voto(x), axis=1)\n",
    "\n",
    "new_table.drop(columns=drop_cols).tail()"
   ]
  },
  {
   "cell_type": "code",
   "execution_count": 94,
   "metadata": {},
   "outputs": [],
   "source": [
    "### criando dict do table para preencher o dataset do basomentro com as novas infos\n",
    "info_orientacao_partido = {}\n",
    "cols_votos = ['partido_voto_sim_%','partido_voto_nao_%','partido_voto_abstencao_%','partido_voto_obstrucao_%',\n",
    "              'partido_voto_ausente_%','orientacao_partido_voto']\n",
    "\n",
    "for index, row in new_table.iterrows():\n",
    "    if row['label'] not in info_orientacao_partido.keys():\n",
    "        info_orientacao_partido.update({row['label']:{}})\n",
    "    \n",
    "    if row['idVotacao'] in info_orientacao_partido[row['label']]:\n",
    "        if row['tipoProposicao'] in info_orientacao_partido[row['label']][row['idVotacao']]:\n",
    "            for col in cols_votos:\n",
    "                if col not in info_orientacao_partido[row['label']][row['idVotacao']][row['tipoProposicao']]:\n",
    "                    info_orientacao_partido[row['label']][row['idVotacao']][row['tipoProposicao']] = {col: row[col]}\n",
    "        else:# acho que nao precisa\n",
    "            info_orientacao_partido[row['label']][row['idVotacao']] = {row['tipoProposicao']:{}}\n",
    "            for col in cols_votos:\n",
    "                if col not in info_orientacao_partido[row['label']][row['idVotacao']][row['tipoProposicao']]:\n",
    "                    info_orientacao_partido[row['label']][row['idVotacao']][row['tipoProposicao']][col] = row[col]\n",
    "    else:\n",
    "        info_orientacao_partido[row['label']][row['idVotacao']] = {}\n",
    "        info_orientacao_partido[row['label']][row['idVotacao']][row['tipoProposicao']] = {}\n",
    "\n",
    "        for col in cols_votos:\n",
    "                if col not in info_orientacao_partido[row['label']][row['idVotacao']][row['tipoProposicao']]:\n",
    "                    info_orientacao_partido[row['label']][row['idVotacao']][row['tipoProposicao']][col] = row[col]\n",
    "\n",
    "# del table"
   ]
  },
  {
   "cell_type": "code",
   "execution_count": 95,
   "metadata": {},
   "outputs": [
    {
     "data": {
      "text/plain": [
       "{'PL': {'partido_voto_sim_%': 2.33,\n",
       "  'partido_voto_nao_%': 33.72,\n",
       "  'partido_voto_abstencao_%': 0.0,\n",
       "  'partido_voto_obstrucao_%': 0.0,\n",
       "  'partido_voto_ausente_%': 63.95,\n",
       "  'orientacao_partido_voto': 'Ausente'}}"
      ]
     },
     "execution_count": 95,
     "metadata": {},
     "output_type": "execute_result"
    }
   ],
   "source": [
    "# info_orientacao_partido\n",
    "info_orientacao_partido['União']['7-4-2022.13.20.17230']"
   ]
  },
  {
   "cell_type": "markdown",
   "metadata": {},
   "source": [
    "## Preencher dados no dataset"
   ]
  },
  {
   "cell_type": "code",
   "execution_count": 96,
   "metadata": {},
   "outputs": [],
   "source": [
    "def get_tipoVotoPartido(x, tipoVotoPartido):\n",
    "    return info_orientacao_partido[x['label']][x['idVotacao']][x['tipoProposicao']][tipoVotoPartido]"
   ]
  },
  {
   "cell_type": "code",
   "execution_count": 89,
   "metadata": {},
   "outputs": [
    {
     "data": {
      "text/plain": [
       "<StringArray>\n",
       "['Sim', 'Não', 'Obstrução', 'Abstenção', 'AUSENTE']\n",
       "Length: 5, dtype: string"
      ]
     },
     "execution_count": 89,
     "metadata": {},
     "output_type": "execute_result"
    }
   ],
   "source": [
    "basometro_df['voto'].unique()"
   ]
  },
  {
   "cell_type": "code",
   "execution_count": 100,
   "metadata": {},
   "outputs": [
    {
     "name": "stdout",
     "output_type": "stream",
     "text": [
      "Inserindo atributos sobre proporção de vatos e orientação partido.\n",
      "\t Tipo voto: 'partido_voto_sim_%'...DONE\n",
      "\t Tipo voto: 'partido_voto_nao_%'...DONE\n",
      "\t Tipo voto: 'partido_voto_abstencao_%'...DONE\n",
      "\t Tipo voto: 'partido_voto_obstrucao_%'...DONE\n",
      "\t Tipo voto: 'partido_voto_ausente_%'...DONE\n",
      "\t Tipo voto: 'orientacao_partido_voto'...DONE\n",
      "Criando atributo 'alinhamento_candidato'...DONE\n"
     ]
    },
    {
     "data": {
      "text/html": [
       "<div>\n",
       "<style scoped>\n",
       "    .dataframe tbody tr th:only-of-type {\n",
       "        vertical-align: middle;\n",
       "    }\n",
       "\n",
       "    .dataframe tbody tr th {\n",
       "        vertical-align: top;\n",
       "    }\n",
       "\n",
       "    .dataframe thead th {\n",
       "        text-align: right;\n",
       "    }\n",
       "</style>\n",
       "<table border=\"1\" class=\"dataframe\">\n",
       "  <thead>\n",
       "    <tr style=\"text-align: right;\">\n",
       "      <th></th>\n",
       "      <th>UF</th>\n",
       "      <th>voto</th>\n",
       "      <th>orientacaoGoverno</th>\n",
       "      <th>anoProposicao</th>\n",
       "      <th>anoVotacao</th>\n",
       "      <th>tipoProposicao</th>\n",
       "      <th>governo</th>\n",
       "      <th>parlamentar</th>\n",
       "      <th>data</th>\n",
       "      <th>idVotacao</th>\n",
       "      <th>...</th>\n",
       "      <th>mesVotacao</th>\n",
       "      <th>delayVotacaoAnos</th>\n",
       "      <th>alinhamento</th>\n",
       "      <th>partido_voto_sim_%</th>\n",
       "      <th>partido_voto_nao_%</th>\n",
       "      <th>partido_voto_abstencao_%</th>\n",
       "      <th>partido_voto_obstrucao_%</th>\n",
       "      <th>partido_voto_ausente_%</th>\n",
       "      <th>orientacao_partido_voto</th>\n",
       "      <th>alinhamento_candidato</th>\n",
       "    </tr>\n",
       "  </thead>\n",
       "  <tbody>\n",
       "    <tr>\n",
       "      <th>0</th>\n",
       "      <td>PR</td>\n",
       "      <td>Sim</td>\n",
       "      <td>Sim</td>\n",
       "      <td>2002</td>\n",
       "      <td>2003</td>\n",
       "      <td>MSC</td>\n",
       "      <td>Lula 1</td>\n",
       "      <td>Abelardo Lupion</td>\n",
       "      <td>2003-02-25 18:54:00</td>\n",
       "      <td>25-2-2003.18.54.736</td>\n",
       "      <td>...</td>\n",
       "      <td>2</td>\n",
       "      <td>1</td>\n",
       "      <td>votou com o governo</td>\n",
       "      <td>55.67</td>\n",
       "      <td>0.00</td>\n",
       "      <td>0.0</td>\n",
       "      <td>0.0</td>\n",
       "      <td>44.33</td>\n",
       "      <td>Sim</td>\n",
       "      <td>votou com o partido</td>\n",
       "    </tr>\n",
       "    <tr>\n",
       "      <th>1</th>\n",
       "      <td>PR</td>\n",
       "      <td>Sim</td>\n",
       "      <td>Sim</td>\n",
       "      <td>2002</td>\n",
       "      <td>2003</td>\n",
       "      <td>MPV</td>\n",
       "      <td>Lula 1</td>\n",
       "      <td>Abelardo Lupion</td>\n",
       "      <td>2003-03-18 19:30:00</td>\n",
       "      <td>18-3-2003.19.30.742</td>\n",
       "      <td>...</td>\n",
       "      <td>3</td>\n",
       "      <td>1</td>\n",
       "      <td>votou com o governo</td>\n",
       "      <td>52.58</td>\n",
       "      <td>13.40</td>\n",
       "      <td>0.0</td>\n",
       "      <td>0.0</td>\n",
       "      <td>34.02</td>\n",
       "      <td>Sim</td>\n",
       "      <td>votou com o partido</td>\n",
       "    </tr>\n",
       "    <tr>\n",
       "      <th>2</th>\n",
       "      <td>PR</td>\n",
       "      <td>Sim</td>\n",
       "      <td>Não</td>\n",
       "      <td>1996</td>\n",
       "      <td>2003</td>\n",
       "      <td>PL</td>\n",
       "      <td>Lula 1</td>\n",
       "      <td>Abelardo Lupion</td>\n",
       "      <td>2003-03-19 18:37:00</td>\n",
       "      <td>19-3-2003.18.37.743</td>\n",
       "      <td>...</td>\n",
       "      <td>3</td>\n",
       "      <td>7</td>\n",
       "      <td>votou contra o governo</td>\n",
       "      <td>53.61</td>\n",
       "      <td>4.12</td>\n",
       "      <td>0.0</td>\n",
       "      <td>0.0</td>\n",
       "      <td>42.27</td>\n",
       "      <td>Sim</td>\n",
       "      <td>votou com o partido</td>\n",
       "    </tr>\n",
       "    <tr>\n",
       "      <th>3</th>\n",
       "      <td>PR</td>\n",
       "      <td>Sim</td>\n",
       "      <td>Não</td>\n",
       "      <td>2002</td>\n",
       "      <td>2003</td>\n",
       "      <td>MPV</td>\n",
       "      <td>Lula 1</td>\n",
       "      <td>Abelardo Lupion</td>\n",
       "      <td>2003-03-26 19:16:00</td>\n",
       "      <td>26-3-2003.19.16.746</td>\n",
       "      <td>...</td>\n",
       "      <td>3</td>\n",
       "      <td>1</td>\n",
       "      <td>votou contra o governo</td>\n",
       "      <td>59.79</td>\n",
       "      <td>5.15</td>\n",
       "      <td>0.0</td>\n",
       "      <td>0.0</td>\n",
       "      <td>35.05</td>\n",
       "      <td>Sim</td>\n",
       "      <td>votou com o partido</td>\n",
       "    </tr>\n",
       "    <tr>\n",
       "      <th>4</th>\n",
       "      <td>PR</td>\n",
       "      <td>Sim</td>\n",
       "      <td>Não</td>\n",
       "      <td>2003</td>\n",
       "      <td>2003</td>\n",
       "      <td>MPV</td>\n",
       "      <td>Lula 1</td>\n",
       "      <td>Abelardo Lupion</td>\n",
       "      <td>2003-08-04 18:02:00</td>\n",
       "      <td>8-4-2003.18.02.754</td>\n",
       "      <td>...</td>\n",
       "      <td>4</td>\n",
       "      <td>0</td>\n",
       "      <td>votou contra o governo</td>\n",
       "      <td>55.67</td>\n",
       "      <td>6.19</td>\n",
       "      <td>0.0</td>\n",
       "      <td>0.0</td>\n",
       "      <td>38.14</td>\n",
       "      <td>Sim</td>\n",
       "      <td>votou com o partido</td>\n",
       "    </tr>\n",
       "  </tbody>\n",
       "</table>\n",
       "<p>5 rows × 27 columns</p>\n",
       "</div>"
      ],
      "text/plain": [
       "   UF voto orientacaoGoverno  anoProposicao  anoVotacao tipoProposicao  \\\n",
       "0  PR  Sim               Sim           2002        2003            MSC   \n",
       "1  PR  Sim               Sim           2002        2003            MPV   \n",
       "2  PR  Sim               Não           1996        2003             PL   \n",
       "3  PR  Sim               Não           2002        2003            MPV   \n",
       "4  PR  Sim               Não           2003        2003            MPV   \n",
       "\n",
       "  governo      parlamentar                data            idVotacao  ...  \\\n",
       "0  Lula 1  Abelardo Lupion 2003-02-25 18:54:00  25-2-2003.18.54.736  ...   \n",
       "1  Lula 1  Abelardo Lupion 2003-03-18 19:30:00  18-3-2003.19.30.742  ...   \n",
       "2  Lula 1  Abelardo Lupion 2003-03-19 18:37:00  19-3-2003.18.37.743  ...   \n",
       "3  Lula 1  Abelardo Lupion 2003-03-26 19:16:00  26-3-2003.19.16.746  ...   \n",
       "4  Lula 1  Abelardo Lupion 2003-08-04 18:02:00   8-4-2003.18.02.754  ...   \n",
       "\n",
       "   mesVotacao delayVotacaoAnos             alinhamento  partido_voto_sim_%  \\\n",
       "0           2                1     votou com o governo               55.67   \n",
       "1           3                1     votou com o governo               52.58   \n",
       "2           3                7  votou contra o governo               53.61   \n",
       "3           3                1  votou contra o governo               59.79   \n",
       "4           4                0  votou contra o governo               55.67   \n",
       "\n",
       "  partido_voto_nao_%  partido_voto_abstencao_%  partido_voto_obstrucao_%  \\\n",
       "0               0.00                       0.0                       0.0   \n",
       "1              13.40                       0.0                       0.0   \n",
       "2               4.12                       0.0                       0.0   \n",
       "3               5.15                       0.0                       0.0   \n",
       "4               6.19                       0.0                       0.0   \n",
       "\n",
       "   partido_voto_ausente_%  orientacao_partido_voto alinhamento_candidato  \n",
       "0                   44.33                      Sim   votou com o partido  \n",
       "1                   34.02                      Sim   votou com o partido  \n",
       "2                   42.27                      Sim   votou com o partido  \n",
       "3                   35.05                      Sim   votou com o partido  \n",
       "4                   38.14                      Sim   votou com o partido  \n",
       "\n",
       "[5 rows x 27 columns]"
      ]
     },
     "execution_count": 100,
     "metadata": {},
     "output_type": "execute_result"
    }
   ],
   "source": [
    "print(\"Inserindo atributos sobre proporção de vatos e orientação partido.\")\n",
    "for tipoVoto in cols_votos:\n",
    "    print(f\"\\t Tipo voto: '{tipoVoto}'...\",end='')\n",
    "    lambda_ = lambda x: get_tipoVotoPartido(x, tipoVoto)\n",
    "    basometro_df[tipoVoto] = basometro_df.apply(lambda_, axis=1)\n",
    "    print(\"DONE\")\n",
    "\n",
    "print(\"Criando atributo 'alinhamento_candidato'...\",end='')\n",
    "lambda_ = lambda x: 'votou com o partido' if x['orientacao_partido_voto'].lower() == x['voto'].lower() else 'votou contra o partido'\n",
    "basometro_df['alinhamento_candidato'] = basometro_df.apply(lambda_, axis=1)\n",
    "print(\"DONE\")\n",
    "\n",
    "basometro_df.head()"
   ]
  },
  {
   "cell_type": "code",
   "execution_count": 101,
   "metadata": {},
   "outputs": [
    {
     "name": "stdout",
     "output_type": "stream",
     "text": [
      "basometro no-clean shape: (1048575, 27)\n",
      "basometro clean shape: (1019364, 27)\n",
      "Salvando dataset com novas features...DONE\n"
     ]
    }
   ],
   "source": [
    "print(f\"basometro no-clean shape: {basometro_df.shape}\")\n",
    "print(f\"basometro clean shape: {basometro_df.drop_duplicates(subset=['label','idVotacao','parlamentar']).shape}\")\n",
    "print(\"Salvando dataset com novas features...\",end='')\n",
    "basometro_df.drop_duplicates(subset=['label','idVotacao','parlamentar']).to_csv(dataset_path+'basometro_v2.csv', encoding='latin-1', index=False)\n",
    "print(\"DONE\")"
   ]
  },
  {
   "cell_type": "markdown",
   "metadata": {},
   "source": [
    "# Problemas no dataset"
   ]
  },
  {
   "cell_type": "markdown",
   "metadata": {},
   "source": [
    "Investigar a quantidade total de votos maior que a quantidade de parlamentares.\n",
    "\n",
    "Corrigir o cálculo das novas features."
   ]
  },
  {
   "cell_type": "code",
   "execution_count": 20,
   "metadata": {},
   "outputs": [
    {
     "data": {
      "text/html": [
       "<div>\n",
       "<style scoped>\n",
       "    .dataframe tbody tr th:only-of-type {\n",
       "        vertical-align: middle;\n",
       "    }\n",
       "\n",
       "    .dataframe tbody tr th {\n",
       "        vertical-align: top;\n",
       "    }\n",
       "\n",
       "    .dataframe thead th {\n",
       "        text-align: right;\n",
       "    }\n",
       "</style>\n",
       "<table border=\"1\" class=\"dataframe\">\n",
       "  <thead>\n",
       "    <tr style=\"text-align: right;\">\n",
       "      <th></th>\n",
       "      <th>label</th>\n",
       "      <th>periodo_mandato</th>\n",
       "      <th>qtd_parlamentares_partido</th>\n",
       "    </tr>\n",
       "  </thead>\n",
       "  <tbody>\n",
       "    <tr>\n",
       "      <th>0</th>\n",
       "      <td>Avante</td>\n",
       "      <td>2007-2010</td>\n",
       "      <td>1</td>\n",
       "    </tr>\n",
       "    <tr>\n",
       "      <th>1</th>\n",
       "      <td>Avante</td>\n",
       "      <td>2011-2014</td>\n",
       "      <td>2</td>\n",
       "    </tr>\n",
       "    <tr>\n",
       "      <th>2</th>\n",
       "      <td>Avante</td>\n",
       "      <td>2015-2018</td>\n",
       "      <td>7</td>\n",
       "    </tr>\n",
       "    <tr>\n",
       "      <th>3</th>\n",
       "      <td>Avante</td>\n",
       "      <td>2019-2022</td>\n",
       "      <td>8</td>\n",
       "    </tr>\n",
       "    <tr>\n",
       "      <th>4</th>\n",
       "      <td>Cidadania</td>\n",
       "      <td>2003-2006</td>\n",
       "      <td>33</td>\n",
       "    </tr>\n",
       "  </tbody>\n",
       "</table>\n",
       "</div>"
      ],
      "text/plain": [
       "       label periodo_mandato  qtd_parlamentares_partido\n",
       "0     Avante       2007-2010                          1\n",
       "1     Avante       2011-2014                          2\n",
       "2     Avante       2015-2018                          7\n",
       "3     Avante       2019-2022                          8\n",
       "4  Cidadania       2003-2006                         33"
      ]
     },
     "metadata": {},
     "output_type": "display_data"
    }
   ],
   "source": [
    "display(df_tamanho_partidos.head())"
   ]
  },
  {
   "cell_type": "code",
   "execution_count": 21,
   "metadata": {},
   "outputs": [
    {
     "data": {
      "text/html": [
       "<div>\n",
       "<style scoped>\n",
       "    .dataframe tbody tr th:only-of-type {\n",
       "        vertical-align: middle;\n",
       "    }\n",
       "\n",
       "    .dataframe tbody tr th {\n",
       "        vertical-align: top;\n",
       "    }\n",
       "\n",
       "    .dataframe thead th {\n",
       "        text-align: right;\n",
       "    }\n",
       "</style>\n",
       "<table border=\"1\" class=\"dataframe\">\n",
       "  <thead>\n",
       "    <tr style=\"text-align: right;\">\n",
       "      <th></th>\n",
       "      <th>label</th>\n",
       "      <th>anoVotacao</th>\n",
       "      <th>data</th>\n",
       "      <th>idVotacao</th>\n",
       "      <th>tipoProposicao</th>\n",
       "      <th>parlamentar</th>\n",
       "    </tr>\n",
       "  </thead>\n",
       "  <tbody>\n",
       "    <tr>\n",
       "      <th>346707</th>\n",
       "      <td>Avante</td>\n",
       "      <td>2009</td>\n",
       "      <td>2009-01-04 16:30:00</td>\n",
       "      <td>1-4-2009.16.30.3673</td>\n",
       "      <td>MPV</td>\n",
       "      <td>Vinicius Carvalho</td>\n",
       "    </tr>\n",
       "    <tr>\n",
       "      <th>346708</th>\n",
       "      <td>Avante</td>\n",
       "      <td>2009</td>\n",
       "      <td>2009-01-04 19:23:00</td>\n",
       "      <td>1-4-2009.19.23.3673</td>\n",
       "      <td>MPV</td>\n",
       "      <td>Vinicius Carvalho</td>\n",
       "    </tr>\n",
       "    <tr>\n",
       "      <th>346756</th>\n",
       "      <td>Avante</td>\n",
       "      <td>2009</td>\n",
       "      <td>2009-01-09 17:17:00</td>\n",
       "      <td>1-9-2009.17.17.3812</td>\n",
       "      <td>MPV</td>\n",
       "      <td>Vinicius Carvalho</td>\n",
       "    </tr>\n",
       "    <tr>\n",
       "      <th>346731</th>\n",
       "      <td>Avante</td>\n",
       "      <td>2009</td>\n",
       "      <td>2009-02-06 19:22:00</td>\n",
       "      <td>2-6-2009.19.22.3736</td>\n",
       "      <td>MPV</td>\n",
       "      <td>Vinicius Carvalho</td>\n",
       "    </tr>\n",
       "    <tr>\n",
       "      <th>346732</th>\n",
       "      <td>Avante</td>\n",
       "      <td>2009</td>\n",
       "      <td>2009-02-06 20:50:00</td>\n",
       "      <td>2-6-2009.20.50.3737</td>\n",
       "      <td>PEC</td>\n",
       "      <td>Vinicius Carvalho</td>\n",
       "    </tr>\n",
       "  </tbody>\n",
       "</table>\n",
       "</div>"
      ],
      "text/plain": [
       "         label  anoVotacao                data            idVotacao  \\\n",
       "346707  Avante        2009 2009-01-04 16:30:00  1-4-2009.16.30.3673   \n",
       "346708  Avante        2009 2009-01-04 19:23:00  1-4-2009.19.23.3673   \n",
       "346756  Avante        2009 2009-01-09 17:17:00  1-9-2009.17.17.3812   \n",
       "346731  Avante        2009 2009-02-06 19:22:00  2-6-2009.19.22.3736   \n",
       "346732  Avante        2009 2009-02-06 20:50:00  2-6-2009.20.50.3737   \n",
       "\n",
       "       tipoProposicao        parlamentar  \n",
       "346707            MPV  Vinicius Carvalho  \n",
       "346708            MPV  Vinicius Carvalho  \n",
       "346756            MPV  Vinicius Carvalho  \n",
       "346731            MPV  Vinicius Carvalho  \n",
       "346732            PEC  Vinicius Carvalho  "
      ]
     },
     "metadata": {},
     "output_type": "display_data"
    },
    {
     "data": {
      "text/html": [
       "<div>\n",
       "<style scoped>\n",
       "    .dataframe tbody tr th:only-of-type {\n",
       "        vertical-align: middle;\n",
       "    }\n",
       "\n",
       "    .dataframe tbody tr th {\n",
       "        vertical-align: top;\n",
       "    }\n",
       "\n",
       "    .dataframe thead th {\n",
       "        text-align: right;\n",
       "    }\n",
       "</style>\n",
       "<table border=\"1\" class=\"dataframe\">\n",
       "  <thead>\n",
       "    <tr style=\"text-align: right;\">\n",
       "      <th></th>\n",
       "      <th>label</th>\n",
       "      <th>anoVotacao</th>\n",
       "      <th>parlamentar</th>\n",
       "      <th>periodo_mandato</th>\n",
       "    </tr>\n",
       "  </thead>\n",
       "  <tbody>\n",
       "    <tr>\n",
       "      <th>346698</th>\n",
       "      <td>Avante</td>\n",
       "      <td>2009</td>\n",
       "      <td>Vinicius Carvalho</td>\n",
       "      <td>2007-2010</td>\n",
       "    </tr>\n",
       "  </tbody>\n",
       "</table>\n",
       "</div>"
      ],
      "text/plain": [
       "         label  anoVotacao        parlamentar periodo_mandato\n",
       "346698  Avante        2009  Vinicius Carvalho       2007-2010"
      ]
     },
     "metadata": {},
     "output_type": "display_data"
    }
   ],
   "source": [
    "### CHECANDO INSTÂNCIA\n",
    "mask= (basometro_df['label']=='Avante') & (basometro_df['anoVotacao'].between(2007,2010))\n",
    "display(basometro_df[mask][['label','anoVotacao','data','idVotacao','tipoProposicao','parlamentar']] \\\n",
    "    .sort_values(by=['data'],ascending=True)\\\n",
    "    .head(5))\n",
    "\n",
    "### CHECANDO INSTÂNCIA\n",
    "display(tmp[(tmp['periodo_mandato']=='2007-2010') & (tmp['label']=='Avante')].drop_duplicates(subset=['parlamentar']))"
   ]
  },
  {
   "cell_type": "markdown",
   "metadata": {},
   "source": [
    "Possível problema com o idVotacao para identificar corretamente uma votação.\n",
    "Foi usado date-timestamp como id, mas a miníma variação pode quebrar os votos de uma mesma proposição.\n",
    "\n",
    "No dataframe abaixo pode-se observar que possivelmente a variação no timestamp separou os votos como fosse votações\n",
    "distintas (index: [1-3]; [6-8]).\n",
    "\n",
    "Por exemplo, em 2021, Avante tinha 8 parlamentares eleitos, considerando essa separação houve apenas um parlamentar votando (index de 1 a 3) sem a marcação dos outros 7 parlamentares. Isso ressalta mais um problema que é a falta de registro dos outros parlamentares (Ausente, Não, etc).\n",
    "\n",
    "Agrupar por data também gerará problemas. Por exemplo, em 2009 (2007~2010), Avante teve 1 parlamentar eleito, se agruparmos por data isso gerará a informação de 2 votos (index 4 e 5), o que também é incorreto. "
   ]
  },
  {
   "cell_type": "code",
   "execution_count": 22,
   "metadata": {},
   "outputs": [
    {
     "name": "stdout",
     "output_type": "stream",
     "text": [
      "(99075, 5)\n"
     ]
    },
    {
     "data": {
      "text/html": [
       "<div>\n",
       "<style scoped>\n",
       "    .dataframe tbody tr th:only-of-type {\n",
       "        vertical-align: middle;\n",
       "    }\n",
       "\n",
       "    .dataframe tbody tr th {\n",
       "        vertical-align: top;\n",
       "    }\n",
       "\n",
       "    .dataframe thead th {\n",
       "        text-align: right;\n",
       "    }\n",
       "</style>\n",
       "<table border=\"1\" class=\"dataframe\">\n",
       "  <thead>\n",
       "    <tr style=\"text-align: right;\">\n",
       "      <th></th>\n",
       "      <th>label</th>\n",
       "      <th>idVotacao</th>\n",
       "      <th>tipoProposicao</th>\n",
       "      <th>voto</th>\n",
       "      <th>count</th>\n",
       "    </tr>\n",
       "  </thead>\n",
       "  <tbody>\n",
       "    <tr>\n",
       "      <th>0</th>\n",
       "      <td>Avante</td>\n",
       "      <td>1-10-2019.00.20.16943</td>\n",
       "      <td>PL</td>\n",
       "      <td>Não</td>\n",
       "      <td>2</td>\n",
       "    </tr>\n",
       "    <tr>\n",
       "      <th>1</th>\n",
       "      <td>Avante</td>\n",
       "      <td>1-12-2021.17.21.17189</td>\n",
       "      <td>PL</td>\n",
       "      <td>Sim</td>\n",
       "      <td>1</td>\n",
       "    </tr>\n",
       "    <tr>\n",
       "      <th>2</th>\n",
       "      <td>Avante</td>\n",
       "      <td>1-12-2021.17.39.17189</td>\n",
       "      <td>PL</td>\n",
       "      <td>Sim</td>\n",
       "      <td>1</td>\n",
       "    </tr>\n",
       "    <tr>\n",
       "      <th>3</th>\n",
       "      <td>Avante</td>\n",
       "      <td>1-12-2021.17.54.17189</td>\n",
       "      <td>PL</td>\n",
       "      <td>Sim</td>\n",
       "      <td>1</td>\n",
       "    </tr>\n",
       "    <tr>\n",
       "      <th>4</th>\n",
       "      <td>Avante</td>\n",
       "      <td>1-4-2009.16.30.3673</td>\n",
       "      <td>MPV</td>\n",
       "      <td>Não</td>\n",
       "      <td>1</td>\n",
       "    </tr>\n",
       "    <tr>\n",
       "      <th>5</th>\n",
       "      <td>Avante</td>\n",
       "      <td>1-4-2009.19.23.3673</td>\n",
       "      <td>MPV</td>\n",
       "      <td>Sim</td>\n",
       "      <td>1</td>\n",
       "    </tr>\n",
       "    <tr>\n",
       "      <th>6</th>\n",
       "      <td>Avante</td>\n",
       "      <td>1-7-2021.12.04.17120</td>\n",
       "      <td>PL</td>\n",
       "      <td>Sim</td>\n",
       "      <td>1</td>\n",
       "    </tr>\n",
       "    <tr>\n",
       "      <th>7</th>\n",
       "      <td>Avante</td>\n",
       "      <td>1-7-2021.12.24.17120</td>\n",
       "      <td>PL</td>\n",
       "      <td>Sim</td>\n",
       "      <td>1</td>\n",
       "    </tr>\n",
       "    <tr>\n",
       "      <th>8</th>\n",
       "      <td>Avante</td>\n",
       "      <td>1-7-2021.13.22.17120</td>\n",
       "      <td>PL</td>\n",
       "      <td>Sim</td>\n",
       "      <td>2</td>\n",
       "    </tr>\n",
       "    <tr>\n",
       "      <th>9</th>\n",
       "      <td>Avante</td>\n",
       "      <td>1-8-2017.18.14.16274</td>\n",
       "      <td>MPV</td>\n",
       "      <td>Não</td>\n",
       "      <td>1</td>\n",
       "    </tr>\n",
       "  </tbody>\n",
       "</table>\n",
       "</div>"
      ],
      "text/plain": [
       "    label              idVotacao tipoProposicao voto  count\n",
       "0  Avante  1-10-2019.00.20.16943             PL  Não      2\n",
       "1  Avante  1-12-2021.17.21.17189             PL  Sim      1\n",
       "2  Avante  1-12-2021.17.39.17189             PL  Sim      1\n",
       "3  Avante  1-12-2021.17.54.17189             PL  Sim      1\n",
       "4  Avante    1-4-2009.16.30.3673            MPV  Não      1\n",
       "5  Avante    1-4-2009.19.23.3673            MPV  Sim      1\n",
       "6  Avante   1-7-2021.12.04.17120             PL  Sim      1\n",
       "7  Avante   1-7-2021.12.24.17120             PL  Sim      1\n",
       "8  Avante   1-7-2021.13.22.17120             PL  Sim      2\n",
       "9  Avante   1-8-2017.18.14.16274            MPV  Não      1"
      ]
     },
     "execution_count": 22,
     "metadata": {},
     "output_type": "execute_result"
    }
   ],
   "source": [
    "tmp = basometro_df.groupby(['label','idVotacao','tipoProposicao','voto']).agg(count = ('voto','count')) \\\n",
    "         .reset_index() \\\n",
    "         .sort_values(by=['label','idVotacao','tipoProposicao'])\n",
    "print(tmp.shape)\n",
    "tmp.head(10)"
   ]
  },
  {
   "cell_type": "code",
   "execution_count": 24,
   "metadata": {},
   "outputs": [
    {
     "name": "stdout",
     "output_type": "stream",
     "text": [
      "Avante 2021: ['André Janones', 'Chiquinho Brazão', 'Leda Sadala']\n",
      "Avante 2019~2022: ['Leda Sadala', 'André Janones', 'Chiquinho Brazão', 'Fernando Borja', 'Greyce Elias', 'Luis Tibé', 'Pastor Sargento Isidório', 'Tito']\n"
     ]
    }
   ],
   "source": [
    "print('Avante 2021:',basometro_df[(basometro_df['label']=='Avante') & (basometro_df['anoVotacao']==2021)]['parlamentar'].unique().tolist())\n",
    "print('Avante 2019~2022:',basometro_df[(basometro_df['label']=='Avante') & (basometro_df['anoVotacao'].between(2019,2022))]['parlamentar'].unique().tolist())"
   ]
  },
  {
   "cell_type": "markdown",
   "metadata": {},
   "source": [
    "Presença de parlamentares, mas sem registro ou baixo registro dos votos."
   ]
  },
  {
   "cell_type": "code",
   "execution_count": 15,
   "metadata": {},
   "outputs": [
    {
     "data": {
      "text/plain": [
       "(68919, 7)"
      ]
     },
     "metadata": {},
     "output_type": "display_data"
    },
    {
     "data": {
      "text/html": [
       "<div>\n",
       "<style scoped>\n",
       "    .dataframe tbody tr th:only-of-type {\n",
       "        vertical-align: middle;\n",
       "    }\n",
       "\n",
       "    .dataframe tbody tr th {\n",
       "        vertical-align: top;\n",
       "    }\n",
       "\n",
       "    .dataframe thead th {\n",
       "        text-align: right;\n",
       "    }\n",
       "</style>\n",
       "<table border=\"1\" class=\"dataframe\">\n",
       "  <thead>\n",
       "    <tr style=\"text-align: right;\">\n",
       "      <th></th>\n",
       "      <th>label</th>\n",
       "      <th>idVotacao</th>\n",
       "      <th>ano</th>\n",
       "      <th>periodo_mandato</th>\n",
       "      <th>total_votos</th>\n",
       "      <th>qtd_parlamentares_partido</th>\n",
       "      <th>diff_qtd_parlamentares_total_votos</th>\n",
       "    </tr>\n",
       "  </thead>\n",
       "  <tbody>\n",
       "    <tr>\n",
       "      <th>10042</th>\n",
       "      <td>MDB</td>\n",
       "      <td>17-3-2005.16.46.1918</td>\n",
       "      <td>2005</td>\n",
       "      <td>2003-2006</td>\n",
       "      <td>0</td>\n",
       "      <td>128</td>\n",
       "      <td>128</td>\n",
       "    </tr>\n",
       "    <tr>\n",
       "      <th>9021</th>\n",
       "      <td>MDB</td>\n",
       "      <td>1-6-2004.22.08.950</td>\n",
       "      <td>2004</td>\n",
       "      <td>2003-2006</td>\n",
       "      <td>0</td>\n",
       "      <td>128</td>\n",
       "      <td>128</td>\n",
       "    </tr>\n",
       "    <tr>\n",
       "      <th>9995</th>\n",
       "      <td>MDB</td>\n",
       "      <td>17-11-2004.18.58.1035</td>\n",
       "      <td>2004</td>\n",
       "      <td>2003-2006</td>\n",
       "      <td>1</td>\n",
       "      <td>128</td>\n",
       "      <td>127</td>\n",
       "    </tr>\n",
       "    <tr>\n",
       "      <th>11411</th>\n",
       "      <td>MDB</td>\n",
       "      <td>28-8-2003.17.30.824</td>\n",
       "      <td>2003</td>\n",
       "      <td>2003-2006</td>\n",
       "      <td>1</td>\n",
       "      <td>128</td>\n",
       "      <td>127</td>\n",
       "    </tr>\n",
       "    <tr>\n",
       "      <th>11380</th>\n",
       "      <td>MDB</td>\n",
       "      <td>28-5-2003.20.48.788</td>\n",
       "      <td>2003</td>\n",
       "      <td>2003-2006</td>\n",
       "      <td>2</td>\n",
       "      <td>128</td>\n",
       "      <td>126</td>\n",
       "    </tr>\n",
       "  </tbody>\n",
       "</table>\n",
       "</div>"
      ],
      "text/plain": [
       "      label              idVotacao   ano periodo_mandato  total_votos  \\\n",
       "10042   MDB   17-3-2005.16.46.1918  2005       2003-2006            0   \n",
       "9021    MDB     1-6-2004.22.08.950  2004       2003-2006            0   \n",
       "9995    MDB  17-11-2004.18.58.1035  2004       2003-2006            1   \n",
       "11411   MDB    28-8-2003.17.30.824  2003       2003-2006            1   \n",
       "11380   MDB    28-5-2003.20.48.788  2003       2003-2006            2   \n",
       "\n",
       "       qtd_parlamentares_partido  diff_qtd_parlamentares_total_votos  \n",
       "10042                        128                                 128  \n",
       "9021                         128                                 128  \n",
       "9995                         128                                 127  \n",
       "11411                        128                                 127  \n",
       "11380                        128                                 126  "
      ]
     },
     "execution_count": 15,
     "metadata": {},
     "output_type": "execute_result"
    }
   ],
   "source": [
    "tmp_new_table = new_table[['label','idVotacao','ano','periodo_mandato','total_votos','qtd_parlamentares_partido']] \\\n",
    "                .copy() \\\n",
    "                .drop_duplicates()[new_table['total_votos']!=new_table['qtd_parlamentares_partido']]\n",
    "tmp_new_table['diff_qtd_parlamentares_total_votos'] = tmp_new_table['qtd_parlamentares_partido'] - tmp_new_table['total_votos']\n",
    "\n",
    "display(tmp_new_table.shape)\n",
    "tmp_new_table.sort_values(by=['diff_qtd_parlamentares_total_votos'],ascending=False).head(5)"
   ]
  },
  {
   "cell_type": "code",
   "execution_count": 44,
   "metadata": {},
   "outputs": [
    {
     "data": {
      "text/plain": [
       "parlamentar    128\n",
       "dtype: int64"
      ]
     },
     "execution_count": 44,
     "metadata": {},
     "output_type": "execute_result"
    }
   ],
   "source": [
    "basometro_df[(basometro_df['label']=='MDB') & (basometro_df['anoVotacao'].between(2003,2006))][['parlamentar']].nunique()"
   ]
  },
  {
   "cell_type": "code",
   "execution_count": 66,
   "metadata": {},
   "outputs": [
    {
     "data": {
      "text/html": [
       "<div>\n",
       "<style scoped>\n",
       "    .dataframe tbody tr th:only-of-type {\n",
       "        vertical-align: middle;\n",
       "    }\n",
       "\n",
       "    .dataframe tbody tr th {\n",
       "        vertical-align: top;\n",
       "    }\n",
       "\n",
       "    .dataframe thead th {\n",
       "        text-align: right;\n",
       "    }\n",
       "</style>\n",
       "<table border=\"1\" class=\"dataframe\">\n",
       "  <thead>\n",
       "    <tr style=\"text-align: right;\">\n",
       "      <th></th>\n",
       "      <th>label</th>\n",
       "      <th>periodo_mandato</th>\n",
       "      <th>avg</th>\n",
       "      <th>label_periodo</th>\n",
       "    </tr>\n",
       "  </thead>\n",
       "  <tbody>\n",
       "    <tr>\n",
       "      <th>15</th>\n",
       "      <td>MDB</td>\n",
       "      <td>2003-2006</td>\n",
       "      <td>78.744828</td>\n",
       "      <td>2003-2006_MDB</td>\n",
       "    </tr>\n",
       "    <tr>\n",
       "      <th>40</th>\n",
       "      <td>PL</td>\n",
       "      <td>2019-2022</td>\n",
       "      <td>68.693078</td>\n",
       "      <td>2019-2022_PL</td>\n",
       "    </tr>\n",
       "    <tr>\n",
       "      <th>10</th>\n",
       "      <td>DEM</td>\n",
       "      <td>2003-2006</td>\n",
       "      <td>67.220690</td>\n",
       "      <td>2003-2006_DEM</td>\n",
       "    </tr>\n",
       "    <tr>\n",
       "      <th>75</th>\n",
       "      <td>PSDB</td>\n",
       "      <td>2003-2006</td>\n",
       "      <td>66.098851</td>\n",
       "      <td>2003-2006_PSDB</td>\n",
       "    </tr>\n",
       "    <tr>\n",
       "      <th>17</th>\n",
       "      <td>MDB</td>\n",
       "      <td>2011-2014</td>\n",
       "      <td>62.165877</td>\n",
       "      <td>2011-2014_MDB</td>\n",
       "    </tr>\n",
       "    <tr>\n",
       "      <th>...</th>\n",
       "      <td>...</td>\n",
       "      <td>...</td>\n",
       "      <td>...</td>\n",
       "      <td>...</td>\n",
       "    </tr>\n",
       "    <tr>\n",
       "      <th>80</th>\n",
       "      <td>PSL</td>\n",
       "      <td>2003-2006</td>\n",
       "      <td>1.000000</td>\n",
       "      <td>2003-2006_PSL</td>\n",
       "    </tr>\n",
       "    <tr>\n",
       "      <th>21</th>\n",
       "      <td>PAN</td>\n",
       "      <td>2007-2010</td>\n",
       "      <td>0.903846</td>\n",
       "      <td>2007-2010_PAN</td>\n",
       "    </tr>\n",
       "    <tr>\n",
       "      <th>59</th>\n",
       "      <td>PRP</td>\n",
       "      <td>2019-2022</td>\n",
       "      <td>0.648649</td>\n",
       "      <td>2019-2022_PRP</td>\n",
       "    </tr>\n",
       "    <tr>\n",
       "      <th>9</th>\n",
       "      <td>DC</td>\n",
       "      <td>2015-2018</td>\n",
       "      <td>-0.471698</td>\n",
       "      <td>2015-2018_DC</td>\n",
       "    </tr>\n",
       "    <tr>\n",
       "      <th>56</th>\n",
       "      <td>PRP</td>\n",
       "      <td>2003-2006</td>\n",
       "      <td>-1.000000</td>\n",
       "      <td>2003-2006_PRP</td>\n",
       "    </tr>\n",
       "  </tbody>\n",
       "</table>\n",
       "<p>129 rows × 4 columns</p>\n",
       "</div>"
      ],
      "text/plain": [
       "   label periodo_mandato        avg   label_periodo\n",
       "15   MDB       2003-2006  78.744828   2003-2006_MDB\n",
       "40    PL       2019-2022  68.693078    2019-2022_PL\n",
       "10   DEM       2003-2006  67.220690   2003-2006_DEM\n",
       "75  PSDB       2003-2006  66.098851  2003-2006_PSDB\n",
       "17   MDB       2011-2014  62.165877   2011-2014_MDB\n",
       "..   ...             ...        ...             ...\n",
       "80   PSL       2003-2006   1.000000   2003-2006_PSL\n",
       "21   PAN       2007-2010   0.903846   2007-2010_PAN\n",
       "59   PRP       2019-2022   0.648649   2019-2022_PRP\n",
       "9     DC       2015-2018  -0.471698    2015-2018_DC\n",
       "56   PRP       2003-2006  -1.000000   2003-2006_PRP\n",
       "\n",
       "[129 rows x 4 columns]"
      ]
     },
     "execution_count": 66,
     "metadata": {},
     "output_type": "execute_result"
    }
   ],
   "source": [
    "df_gp = tmp_new_table.groupby(by=['label','periodo_mandato']).agg(avg=('diff_qtd_parlamentares_total_votos','mean')) \\\n",
    "                     .reset_index()\n",
    "                     \n",
    "df_gp['label_periodo'] = df_gp['periodo_mandato']+'_'+df_gp['label']\n",
    "df_gp = df_gp.sort_values(by=['avg','label_periodo'],ascending=[False,False])\n",
    "df_gp"
   ]
  },
  {
   "cell_type": "code",
   "execution_count": 69,
   "metadata": {},
   "outputs": [
    {
     "data": {
      "application/vnd.plotly.v1+json": {
       "config": {
        "plotlyServerURL": "https://plot.ly"
       },
       "data": [
        {
         "alignmentgroup": "True",
         "cliponaxis": false,
         "hovertemplate": "label_periodo=%{x}<br>avg=%{y}<extra></extra>",
         "legendgroup": "",
         "marker": {
          "color": "#636efa",
          "pattern": {
           "shape": ""
          }
         },
         "name": "",
         "offsetgroup": "",
         "orientation": "v",
         "showlegend": false,
         "textangle": 0,
         "textfont": {
          "size": 12
         },
         "textposition": "outside",
         "texttemplate": "%{y:.2s}",
         "type": "bar",
         "x": [
          "2003-2006_MDB",
          "2019-2022_PL",
          "2003-2006_DEM",
          "2003-2006_PSDB",
          "2011-2014_MDB",
          "2011-2014_PT",
          "2007-2010_PSDB",
          "2007-2010_MDB",
          "2007-2010_DEM",
          "2015-2018_MDB",
          "2011-2014_PSD",
          "2011-2014_PSDB",
          "2015-2018_PT",
          "2019-2022_PSD",
          "2015-2018_PSD",
          "2003-2006_Progressistas",
          "2007-2010_PT",
          "2019-2022_PSL",
          "2003-2006_PT",
          "2003-2006_PSB"
         ],
         "xaxis": "x",
         "y": [
          78.7448275862069,
          68.69307756463719,
          67.22068965517241,
          66.09885057471264,
          62.165876777251185,
          60.30878859857482,
          57.21287128712871,
          56.7970297029703,
          56.711221122112214,
          55.2093567251462,
          48.76068376068376,
          48.023696682464454,
          46.94847775175644,
          45.126666666666665,
          44.124121779859486,
          44.01152073732719,
          43.303630363036305,
          43.142587346553356,
          41.351039260969976,
          40.175644028103044
         ],
         "yaxis": "y"
        }
       ],
       "layout": {
        "barmode": "relative",
        "height": 500,
        "legend": {
         "tracegroupgap": 0
        },
        "template": {
         "data": {
          "bar": [
           {
            "error_x": {
             "color": "#2a3f5f"
            },
            "error_y": {
             "color": "#2a3f5f"
            },
            "marker": {
             "line": {
              "color": "#E5ECF6",
              "width": 0.5
             },
             "pattern": {
              "fillmode": "overlay",
              "size": 10,
              "solidity": 0.2
             }
            },
            "type": "bar"
           }
          ],
          "barpolar": [
           {
            "marker": {
             "line": {
              "color": "#E5ECF6",
              "width": 0.5
             },
             "pattern": {
              "fillmode": "overlay",
              "size": 10,
              "solidity": 0.2
             }
            },
            "type": "barpolar"
           }
          ],
          "carpet": [
           {
            "aaxis": {
             "endlinecolor": "#2a3f5f",
             "gridcolor": "white",
             "linecolor": "white",
             "minorgridcolor": "white",
             "startlinecolor": "#2a3f5f"
            },
            "baxis": {
             "endlinecolor": "#2a3f5f",
             "gridcolor": "white",
             "linecolor": "white",
             "minorgridcolor": "white",
             "startlinecolor": "#2a3f5f"
            },
            "type": "carpet"
           }
          ],
          "choropleth": [
           {
            "colorbar": {
             "outlinewidth": 0,
             "ticks": ""
            },
            "type": "choropleth"
           }
          ],
          "contour": [
           {
            "colorbar": {
             "outlinewidth": 0,
             "ticks": ""
            },
            "colorscale": [
             [
              0,
              "#0d0887"
             ],
             [
              0.1111111111111111,
              "#46039f"
             ],
             [
              0.2222222222222222,
              "#7201a8"
             ],
             [
              0.3333333333333333,
              "#9c179e"
             ],
             [
              0.4444444444444444,
              "#bd3786"
             ],
             [
              0.5555555555555556,
              "#d8576b"
             ],
             [
              0.6666666666666666,
              "#ed7953"
             ],
             [
              0.7777777777777778,
              "#fb9f3a"
             ],
             [
              0.8888888888888888,
              "#fdca26"
             ],
             [
              1,
              "#f0f921"
             ]
            ],
            "type": "contour"
           }
          ],
          "contourcarpet": [
           {
            "colorbar": {
             "outlinewidth": 0,
             "ticks": ""
            },
            "type": "contourcarpet"
           }
          ],
          "heatmap": [
           {
            "colorbar": {
             "outlinewidth": 0,
             "ticks": ""
            },
            "colorscale": [
             [
              0,
              "#0d0887"
             ],
             [
              0.1111111111111111,
              "#46039f"
             ],
             [
              0.2222222222222222,
              "#7201a8"
             ],
             [
              0.3333333333333333,
              "#9c179e"
             ],
             [
              0.4444444444444444,
              "#bd3786"
             ],
             [
              0.5555555555555556,
              "#d8576b"
             ],
             [
              0.6666666666666666,
              "#ed7953"
             ],
             [
              0.7777777777777778,
              "#fb9f3a"
             ],
             [
              0.8888888888888888,
              "#fdca26"
             ],
             [
              1,
              "#f0f921"
             ]
            ],
            "type": "heatmap"
           }
          ],
          "heatmapgl": [
           {
            "colorbar": {
             "outlinewidth": 0,
             "ticks": ""
            },
            "colorscale": [
             [
              0,
              "#0d0887"
             ],
             [
              0.1111111111111111,
              "#46039f"
             ],
             [
              0.2222222222222222,
              "#7201a8"
             ],
             [
              0.3333333333333333,
              "#9c179e"
             ],
             [
              0.4444444444444444,
              "#bd3786"
             ],
             [
              0.5555555555555556,
              "#d8576b"
             ],
             [
              0.6666666666666666,
              "#ed7953"
             ],
             [
              0.7777777777777778,
              "#fb9f3a"
             ],
             [
              0.8888888888888888,
              "#fdca26"
             ],
             [
              1,
              "#f0f921"
             ]
            ],
            "type": "heatmapgl"
           }
          ],
          "histogram": [
           {
            "marker": {
             "pattern": {
              "fillmode": "overlay",
              "size": 10,
              "solidity": 0.2
             }
            },
            "type": "histogram"
           }
          ],
          "histogram2d": [
           {
            "colorbar": {
             "outlinewidth": 0,
             "ticks": ""
            },
            "colorscale": [
             [
              0,
              "#0d0887"
             ],
             [
              0.1111111111111111,
              "#46039f"
             ],
             [
              0.2222222222222222,
              "#7201a8"
             ],
             [
              0.3333333333333333,
              "#9c179e"
             ],
             [
              0.4444444444444444,
              "#bd3786"
             ],
             [
              0.5555555555555556,
              "#d8576b"
             ],
             [
              0.6666666666666666,
              "#ed7953"
             ],
             [
              0.7777777777777778,
              "#fb9f3a"
             ],
             [
              0.8888888888888888,
              "#fdca26"
             ],
             [
              1,
              "#f0f921"
             ]
            ],
            "type": "histogram2d"
           }
          ],
          "histogram2dcontour": [
           {
            "colorbar": {
             "outlinewidth": 0,
             "ticks": ""
            },
            "colorscale": [
             [
              0,
              "#0d0887"
             ],
             [
              0.1111111111111111,
              "#46039f"
             ],
             [
              0.2222222222222222,
              "#7201a8"
             ],
             [
              0.3333333333333333,
              "#9c179e"
             ],
             [
              0.4444444444444444,
              "#bd3786"
             ],
             [
              0.5555555555555556,
              "#d8576b"
             ],
             [
              0.6666666666666666,
              "#ed7953"
             ],
             [
              0.7777777777777778,
              "#fb9f3a"
             ],
             [
              0.8888888888888888,
              "#fdca26"
             ],
             [
              1,
              "#f0f921"
             ]
            ],
            "type": "histogram2dcontour"
           }
          ],
          "mesh3d": [
           {
            "colorbar": {
             "outlinewidth": 0,
             "ticks": ""
            },
            "type": "mesh3d"
           }
          ],
          "parcoords": [
           {
            "line": {
             "colorbar": {
              "outlinewidth": 0,
              "ticks": ""
             }
            },
            "type": "parcoords"
           }
          ],
          "pie": [
           {
            "automargin": true,
            "type": "pie"
           }
          ],
          "scatter": [
           {
            "fillpattern": {
             "fillmode": "overlay",
             "size": 10,
             "solidity": 0.2
            },
            "type": "scatter"
           }
          ],
          "scatter3d": [
           {
            "line": {
             "colorbar": {
              "outlinewidth": 0,
              "ticks": ""
             }
            },
            "marker": {
             "colorbar": {
              "outlinewidth": 0,
              "ticks": ""
             }
            },
            "type": "scatter3d"
           }
          ],
          "scattercarpet": [
           {
            "marker": {
             "colorbar": {
              "outlinewidth": 0,
              "ticks": ""
             }
            },
            "type": "scattercarpet"
           }
          ],
          "scattergeo": [
           {
            "marker": {
             "colorbar": {
              "outlinewidth": 0,
              "ticks": ""
             }
            },
            "type": "scattergeo"
           }
          ],
          "scattergl": [
           {
            "marker": {
             "colorbar": {
              "outlinewidth": 0,
              "ticks": ""
             }
            },
            "type": "scattergl"
           }
          ],
          "scattermapbox": [
           {
            "marker": {
             "colorbar": {
              "outlinewidth": 0,
              "ticks": ""
             }
            },
            "type": "scattermapbox"
           }
          ],
          "scatterpolar": [
           {
            "marker": {
             "colorbar": {
              "outlinewidth": 0,
              "ticks": ""
             }
            },
            "type": "scatterpolar"
           }
          ],
          "scatterpolargl": [
           {
            "marker": {
             "colorbar": {
              "outlinewidth": 0,
              "ticks": ""
             }
            },
            "type": "scatterpolargl"
           }
          ],
          "scatterternary": [
           {
            "marker": {
             "colorbar": {
              "outlinewidth": 0,
              "ticks": ""
             }
            },
            "type": "scatterternary"
           }
          ],
          "surface": [
           {
            "colorbar": {
             "outlinewidth": 0,
             "ticks": ""
            },
            "colorscale": [
             [
              0,
              "#0d0887"
             ],
             [
              0.1111111111111111,
              "#46039f"
             ],
             [
              0.2222222222222222,
              "#7201a8"
             ],
             [
              0.3333333333333333,
              "#9c179e"
             ],
             [
              0.4444444444444444,
              "#bd3786"
             ],
             [
              0.5555555555555556,
              "#d8576b"
             ],
             [
              0.6666666666666666,
              "#ed7953"
             ],
             [
              0.7777777777777778,
              "#fb9f3a"
             ],
             [
              0.8888888888888888,
              "#fdca26"
             ],
             [
              1,
              "#f0f921"
             ]
            ],
            "type": "surface"
           }
          ],
          "table": [
           {
            "cells": {
             "fill": {
              "color": "#EBF0F8"
             },
             "line": {
              "color": "white"
             }
            },
            "header": {
             "fill": {
              "color": "#C8D4E3"
             },
             "line": {
              "color": "white"
             }
            },
            "type": "table"
           }
          ]
         },
         "layout": {
          "annotationdefaults": {
           "arrowcolor": "#2a3f5f",
           "arrowhead": 0,
           "arrowwidth": 1
          },
          "autotypenumbers": "strict",
          "coloraxis": {
           "colorbar": {
            "outlinewidth": 0,
            "ticks": ""
           }
          },
          "colorscale": {
           "diverging": [
            [
             0,
             "#8e0152"
            ],
            [
             0.1,
             "#c51b7d"
            ],
            [
             0.2,
             "#de77ae"
            ],
            [
             0.3,
             "#f1b6da"
            ],
            [
             0.4,
             "#fde0ef"
            ],
            [
             0.5,
             "#f7f7f7"
            ],
            [
             0.6,
             "#e6f5d0"
            ],
            [
             0.7,
             "#b8e186"
            ],
            [
             0.8,
             "#7fbc41"
            ],
            [
             0.9,
             "#4d9221"
            ],
            [
             1,
             "#276419"
            ]
           ],
           "sequential": [
            [
             0,
             "#0d0887"
            ],
            [
             0.1111111111111111,
             "#46039f"
            ],
            [
             0.2222222222222222,
             "#7201a8"
            ],
            [
             0.3333333333333333,
             "#9c179e"
            ],
            [
             0.4444444444444444,
             "#bd3786"
            ],
            [
             0.5555555555555556,
             "#d8576b"
            ],
            [
             0.6666666666666666,
             "#ed7953"
            ],
            [
             0.7777777777777778,
             "#fb9f3a"
            ],
            [
             0.8888888888888888,
             "#fdca26"
            ],
            [
             1,
             "#f0f921"
            ]
           ],
           "sequentialminus": [
            [
             0,
             "#0d0887"
            ],
            [
             0.1111111111111111,
             "#46039f"
            ],
            [
             0.2222222222222222,
             "#7201a8"
            ],
            [
             0.3333333333333333,
             "#9c179e"
            ],
            [
             0.4444444444444444,
             "#bd3786"
            ],
            [
             0.5555555555555556,
             "#d8576b"
            ],
            [
             0.6666666666666666,
             "#ed7953"
            ],
            [
             0.7777777777777778,
             "#fb9f3a"
            ],
            [
             0.8888888888888888,
             "#fdca26"
            ],
            [
             1,
             "#f0f921"
            ]
           ]
          },
          "colorway": [
           "#636efa",
           "#EF553B",
           "#00cc96",
           "#ab63fa",
           "#FFA15A",
           "#19d3f3",
           "#FF6692",
           "#B6E880",
           "#FF97FF",
           "#FECB52"
          ],
          "font": {
           "color": "#2a3f5f"
          },
          "geo": {
           "bgcolor": "white",
           "lakecolor": "white",
           "landcolor": "#E5ECF6",
           "showlakes": true,
           "showland": true,
           "subunitcolor": "white"
          },
          "hoverlabel": {
           "align": "left"
          },
          "hovermode": "closest",
          "mapbox": {
           "style": "light"
          },
          "paper_bgcolor": "white",
          "plot_bgcolor": "#E5ECF6",
          "polar": {
           "angularaxis": {
            "gridcolor": "white",
            "linecolor": "white",
            "ticks": ""
           },
           "bgcolor": "#E5ECF6",
           "radialaxis": {
            "gridcolor": "white",
            "linecolor": "white",
            "ticks": ""
           }
          },
          "scene": {
           "xaxis": {
            "backgroundcolor": "#E5ECF6",
            "gridcolor": "white",
            "gridwidth": 2,
            "linecolor": "white",
            "showbackground": true,
            "ticks": "",
            "zerolinecolor": "white"
           },
           "yaxis": {
            "backgroundcolor": "#E5ECF6",
            "gridcolor": "white",
            "gridwidth": 2,
            "linecolor": "white",
            "showbackground": true,
            "ticks": "",
            "zerolinecolor": "white"
           },
           "zaxis": {
            "backgroundcolor": "#E5ECF6",
            "gridcolor": "white",
            "gridwidth": 2,
            "linecolor": "white",
            "showbackground": true,
            "ticks": "",
            "zerolinecolor": "white"
           }
          },
          "shapedefaults": {
           "line": {
            "color": "#2a3f5f"
           }
          },
          "ternary": {
           "aaxis": {
            "gridcolor": "white",
            "linecolor": "white",
            "ticks": ""
           },
           "baxis": {
            "gridcolor": "white",
            "linecolor": "white",
            "ticks": ""
           },
           "bgcolor": "#E5ECF6",
           "caxis": {
            "gridcolor": "white",
            "linecolor": "white",
            "ticks": ""
           }
          },
          "title": {
           "x": 0.05
          },
          "xaxis": {
           "automargin": true,
           "gridcolor": "white",
           "linecolor": "white",
           "ticks": "",
           "title": {
            "standoff": 15
           },
           "zerolinecolor": "white",
           "zerolinewidth": 2
          },
          "yaxis": {
           "automargin": true,
           "gridcolor": "white",
           "linecolor": "white",
           "ticks": "",
           "title": {
            "standoff": 15
           },
           "zerolinecolor": "white",
           "zerolinewidth": 2
          }
         }
        },
        "title": {
         "text": "Diferença média entre qtd_parlamentares e total_votos por partido e período. <br>Filtro: avg>=40"
        },
        "width": 1000,
        "xaxis": {
         "anchor": "y",
         "domain": [
          0,
          1
         ],
         "title": {
          "text": "label_periodo"
         }
        },
        "yaxis": {
         "anchor": "x",
         "domain": [
          0,
          1
         ],
         "title": {
          "text": "avg"
         }
        }
       }
      }
     },
     "metadata": {},
     "output_type": "display_data"
    }
   ],
   "source": [
    "fig = px.bar(df_gp[df_gp['avg']>=40], y='avg', x='label_periodo', text_auto='.2s',\n",
    "            title=\"Diferença média entre qtd_parlamentares e total_votos por partido e período. <br>Filtro: avg>=40\",\n",
    "            width=1000,height=500)\n",
    "fig.update_traces(textfont_size=12, textangle=0, textposition=\"outside\", cliponaxis=False)\n",
    "fig.show()"
   ]
  },
  {
   "cell_type": "code",
   "execution_count": 71,
   "metadata": {},
   "outputs": [
    {
     "data": {
      "text/plain": [
       "MDB              4\n",
       "PT               4\n",
       "PSDB             3\n",
       "PSD              3\n",
       "DEM              2\n",
       "PL               1\n",
       "Progressistas    1\n",
       "PSL              1\n",
       "PSB              1\n",
       "Name: label, dtype: int64"
      ]
     },
     "execution_count": 71,
     "metadata": {},
     "output_type": "execute_result"
    }
   ],
   "source": [
    "df_gp[df_gp['avg']>=40]['label'].value_counts()"
   ]
  },
  {
   "cell_type": "code",
   "execution_count": 72,
   "metadata": {},
   "outputs": [
    {
     "data": {
      "text/plain": [
       "2003-2006    6\n",
       "2011-2014    4\n",
       "2007-2010    4\n",
       "2019-2022    3\n",
       "2015-2018    3\n",
       "Name: periodo_mandato, dtype: int64"
      ]
     },
     "execution_count": 72,
     "metadata": {},
     "output_type": "execute_result"
    }
   ],
   "source": [
    "df_gp[df_gp['avg']>=40]['periodo_mandato'].value_counts()"
   ]
  },
  {
   "cell_type": "markdown",
   "metadata": {},
   "source": [
    "Quatidade de votos maior que a quatidade de parlamentares?"
   ]
  },
  {
   "cell_type": "code",
   "execution_count": 18,
   "metadata": {},
   "outputs": [
    {
     "data": {
      "text/html": [
       "<div>\n",
       "<style scoped>\n",
       "    .dataframe tbody tr th:only-of-type {\n",
       "        vertical-align: middle;\n",
       "    }\n",
       "\n",
       "    .dataframe tbody tr th {\n",
       "        vertical-align: top;\n",
       "    }\n",
       "\n",
       "    .dataframe thead th {\n",
       "        text-align: right;\n",
       "    }\n",
       "</style>\n",
       "<table border=\"1\" class=\"dataframe\">\n",
       "  <thead>\n",
       "    <tr style=\"text-align: right;\">\n",
       "      <th></th>\n",
       "      <th>label</th>\n",
       "      <th>idVotacao</th>\n",
       "      <th>ano</th>\n",
       "      <th>periodo_mandato</th>\n",
       "      <th>total_votos</th>\n",
       "      <th>qtd_parlamentares_partido</th>\n",
       "      <th>diff_qtd_parlamentares_total_votos</th>\n",
       "    </tr>\n",
       "  </thead>\n",
       "  <tbody>\n",
       "    <tr>\n",
       "      <th>69832</th>\n",
       "      <td>União</td>\n",
       "      <td>23-2-2022.21.51.17212</td>\n",
       "      <td>2022</td>\n",
       "      <td>2019-2022</td>\n",
       "      <td>110</td>\n",
       "      <td>86</td>\n",
       "      <td>-24</td>\n",
       "    </tr>\n",
       "    <tr>\n",
       "      <th>69833</th>\n",
       "      <td>União</td>\n",
       "      <td>23-2-2022.23.38.17212</td>\n",
       "      <td>2022</td>\n",
       "      <td>2019-2022</td>\n",
       "      <td>108</td>\n",
       "      <td>86</td>\n",
       "      <td>-22</td>\n",
       "    </tr>\n",
       "    <tr>\n",
       "      <th>22209</th>\n",
       "      <td>PL</td>\n",
       "      <td>12-4-2022.16.57.17232</td>\n",
       "      <td>2022</td>\n",
       "      <td>2019-2022</td>\n",
       "      <td>108</td>\n",
       "      <td>104</td>\n",
       "      <td>-4</td>\n",
       "    </tr>\n",
       "    <tr>\n",
       "      <th>69831</th>\n",
       "      <td>União</td>\n",
       "      <td>23-2-2022.20.59.17212</td>\n",
       "      <td>2022</td>\n",
       "      <td>2019-2022</td>\n",
       "      <td>108</td>\n",
       "      <td>86</td>\n",
       "      <td>-22</td>\n",
       "    </tr>\n",
       "    <tr>\n",
       "      <th>69830</th>\n",
       "      <td>União</td>\n",
       "      <td>23-2-2022.20.41.17212</td>\n",
       "      <td>2022</td>\n",
       "      <td>2019-2022</td>\n",
       "      <td>107</td>\n",
       "      <td>86</td>\n",
       "      <td>-21</td>\n",
       "    </tr>\n",
       "  </tbody>\n",
       "</table>\n",
       "</div>"
      ],
      "text/plain": [
       "       label              idVotacao   ano periodo_mandato  total_votos  \\\n",
       "69832  União  23-2-2022.21.51.17212  2022       2019-2022          110   \n",
       "69833  União  23-2-2022.23.38.17212  2022       2019-2022          108   \n",
       "22209     PL  12-4-2022.16.57.17232  2022       2019-2022          108   \n",
       "69831  União  23-2-2022.20.59.17212  2022       2019-2022          108   \n",
       "69830  União  23-2-2022.20.41.17212  2022       2019-2022          107   \n",
       "\n",
       "       qtd_parlamentares_partido  diff_qtd_parlamentares_total_votos  \n",
       "69832                         86                                 -24  \n",
       "69833                         86                                 -22  \n",
       "22209                        104                                  -4  \n",
       "69831                         86                                 -22  \n",
       "69830                         86                                 -21  "
      ]
     },
     "execution_count": 18,
     "metadata": {},
     "output_type": "execute_result"
    }
   ],
   "source": [
    "tmp_new_table.sort_values(by=['total_votos'],ascending=False).head()"
   ]
  },
  {
   "cell_type": "markdown",
   "metadata": {},
   "source": [
    "Avaliando problema de duplicatas nos votos no dataset que prejudica a contagem."
   ]
  },
  {
   "cell_type": "code",
   "execution_count": 38,
   "metadata": {},
   "outputs": [
    {
     "name": "stdout",
     "output_type": "stream",
     "text": [
      "qtd parlamentares: 86\n",
      "df.shape: (110, 5)\n",
      "Sim    55\n",
      "Não    55\n",
      "Name: voto, dtype: Int64\n",
      "df.shape: (68, 5)\n",
      "Não    36\n",
      "Sim    32\n",
      "Name: voto, dtype: Int64\n"
     ]
    },
    {
     "data": {
      "text/html": [
       "<div>\n",
       "<style scoped>\n",
       "    .dataframe tbody tr th:only-of-type {\n",
       "        vertical-align: middle;\n",
       "    }\n",
       "\n",
       "    .dataframe tbody tr th {\n",
       "        vertical-align: top;\n",
       "    }\n",
       "\n",
       "    .dataframe thead th {\n",
       "        text-align: right;\n",
       "    }\n",
       "</style>\n",
       "<table border=\"1\" class=\"dataframe\">\n",
       "  <thead>\n",
       "    <tr style=\"text-align: right;\">\n",
       "      <th></th>\n",
       "      <th>label</th>\n",
       "      <th>tipoProposicao</th>\n",
       "      <th>voto</th>\n",
       "      <th>parlamentar</th>\n",
       "      <th>rank_votos</th>\n",
       "    </tr>\n",
       "  </thead>\n",
       "  <tbody>\n",
       "    <tr>\n",
       "      <th>27647</th>\n",
       "      <td>União</td>\n",
       "      <td>PL</td>\n",
       "      <td>Sim</td>\n",
       "      <td>Sóstenes Cavalcante</td>\n",
       "      <td>3</td>\n",
       "    </tr>\n",
       "    <tr>\n",
       "      <th>395829</th>\n",
       "      <td>União</td>\n",
       "      <td>PL</td>\n",
       "      <td>Não</td>\n",
       "      <td>Pedro Lupion</td>\n",
       "      <td>3</td>\n",
       "    </tr>\n",
       "    <tr>\n",
       "      <th>342308</th>\n",
       "      <td>União</td>\n",
       "      <td>PL</td>\n",
       "      <td>Sim</td>\n",
       "      <td>Nelson Barbudo</td>\n",
       "      <td>3</td>\n",
       "    </tr>\n",
       "    <tr>\n",
       "      <th>274898</th>\n",
       "      <td>União</td>\n",
       "      <td>PL</td>\n",
       "      <td>Não</td>\n",
       "      <td>Márcio Labre</td>\n",
       "      <td>3</td>\n",
       "    </tr>\n",
       "    <tr>\n",
       "      <th>98147</th>\n",
       "      <td>União</td>\n",
       "      <td>PL</td>\n",
       "      <td>Sim</td>\n",
       "      <td>Léo Motta</td>\n",
       "      <td>3</td>\n",
       "    </tr>\n",
       "    <tr>\n",
       "      <th>68043</th>\n",
       "      <td>União</td>\n",
       "      <td>PL</td>\n",
       "      <td>Não</td>\n",
       "      <td>Jose Mario Schreiner</td>\n",
       "      <td>3</td>\n",
       "    </tr>\n",
       "    <tr>\n",
       "      <th>93498</th>\n",
       "      <td>União</td>\n",
       "      <td>PL</td>\n",
       "      <td>Sim</td>\n",
       "      <td>Filipe Barros</td>\n",
       "      <td>3</td>\n",
       "    </tr>\n",
       "    <tr>\n",
       "      <th>92886</th>\n",
       "      <td>União</td>\n",
       "      <td>PL</td>\n",
       "      <td>Sim</td>\n",
       "      <td>Eduardo Bolsonaro</td>\n",
       "      <td>3</td>\n",
       "    </tr>\n",
       "    <tr>\n",
       "      <th>92236</th>\n",
       "      <td>União</td>\n",
       "      <td>PL</td>\n",
       "      <td>Sim</td>\n",
       "      <td>Coronel Tadeu</td>\n",
       "      <td>3</td>\n",
       "    </tr>\n",
       "    <tr>\n",
       "      <th>103582</th>\n",
       "      <td>União</td>\n",
       "      <td>PL</td>\n",
       "      <td>Sim</td>\n",
       "      <td>Vitor Hugo</td>\n",
       "      <td>2</td>\n",
       "    </tr>\n",
       "  </tbody>\n",
       "</table>\n",
       "</div>"
      ],
      "text/plain": [
       "        label tipoProposicao voto           parlamentar  rank_votos\n",
       "27647   União             PL  Sim   Sóstenes Cavalcante           3\n",
       "395829  União             PL  Não          Pedro Lupion           3\n",
       "342308  União             PL  Sim        Nelson Barbudo           3\n",
       "274898  União             PL  Não          Márcio Labre           3\n",
       "98147   União             PL  Sim             Léo Motta           3\n",
       "68043   União             PL  Não  Jose Mario Schreiner           3\n",
       "93498   União             PL  Sim         Filipe Barros           3\n",
       "92886   União             PL  Sim     Eduardo Bolsonaro           3\n",
       "92236   União             PL  Sim         Coronel Tadeu           3\n",
       "103582  União             PL  Sim            Vitor Hugo           2"
      ]
     },
     "execution_count": 38,
     "metadata": {},
     "output_type": "execute_result"
    }
   ],
   "source": [
    "print('qtd parlamentares:',basometro_df[(basometro_df['label']=='União') & (basometro_df['anoVotacao'].between(2019,2022))]['parlamentar'].nunique())\n",
    "\n",
    "mask = (basometro_df['idVotacao']=='23-2-2022.21.51.17212') & (basometro_df['label']=='União')\n",
    "tmp = basometro_df[mask][['label','tipoProposicao','voto','parlamentar']]\n",
    "tmp['rank_votos'] = tmp.apply(lambda x: tmp[tmp['parlamentar']==x['parlamentar']].shape[0],axis=1)\n",
    "print(f\"df.shape: {tmp.shape}\")\n",
    "print(tmp['voto'].value_counts())\n",
    "\n",
    "tmp = tmp.drop_duplicates(subset=['voto','parlamentar'])\n",
    "print(f\"df.shape: {tmp.shape}\")\n",
    "print(tmp['voto'].value_counts())\n",
    "\n",
    "tmp.sort_values(by=['rank_votos','parlamentar'],ascending=[False,False]).head(10)"
   ]
  },
  {
   "cell_type": "code",
   "execution_count": 40,
   "metadata": {},
   "outputs": [
    {
     "name": "stdout",
     "output_type": "stream",
     "text": [
      "qtd parlamentares: 104\n",
      "df.shape: (108, 5)\n",
      "Sim    108\n",
      "Name: voto, dtype: Int64\n",
      "df.shape: (74, 5)\n",
      "Sim    74\n",
      "Name: voto, dtype: Int64\n"
     ]
    },
    {
     "data": {
      "text/html": [
       "<div>\n",
       "<style scoped>\n",
       "    .dataframe tbody tr th:only-of-type {\n",
       "        vertical-align: middle;\n",
       "    }\n",
       "\n",
       "    .dataframe tbody tr th {\n",
       "        vertical-align: top;\n",
       "    }\n",
       "\n",
       "    .dataframe thead th {\n",
       "        text-align: right;\n",
       "    }\n",
       "</style>\n",
       "<table border=\"1\" class=\"dataframe\">\n",
       "  <thead>\n",
       "    <tr style=\"text-align: right;\">\n",
       "      <th></th>\n",
       "      <th>label</th>\n",
       "      <th>tipoProposicao</th>\n",
       "      <th>voto</th>\n",
       "      <th>parlamentar</th>\n",
       "      <th>rank_votos</th>\n",
       "    </tr>\n",
       "  </thead>\n",
       "  <tbody>\n",
       "    <tr>\n",
       "      <th>27704</th>\n",
       "      <td>PL</td>\n",
       "      <td>PL</td>\n",
       "      <td>Sim</td>\n",
       "      <td>Sóstenes Cavalcante</td>\n",
       "      <td>3</td>\n",
       "    </tr>\n",
       "    <tr>\n",
       "      <th>342395</th>\n",
       "      <td>PL</td>\n",
       "      <td>PL</td>\n",
       "      <td>Sim</td>\n",
       "      <td>Nelson Barbudo</td>\n",
       "      <td>3</td>\n",
       "    </tr>\n",
       "    <tr>\n",
       "      <th>274993</th>\n",
       "      <td>PL</td>\n",
       "      <td>PL</td>\n",
       "      <td>Sim</td>\n",
       "      <td>Márcio Labre</td>\n",
       "      <td>3</td>\n",
       "    </tr>\n",
       "    <tr>\n",
       "      <th>93573</th>\n",
       "      <td>PL</td>\n",
       "      <td>PL</td>\n",
       "      <td>Sim</td>\n",
       "      <td>Filipe Barros</td>\n",
       "      <td>3</td>\n",
       "    </tr>\n",
       "    <tr>\n",
       "      <th>92952</th>\n",
       "      <td>PL</td>\n",
       "      <td>PL</td>\n",
       "      <td>Sim</td>\n",
       "      <td>Eduardo Bolsonaro</td>\n",
       "      <td>3</td>\n",
       "    </tr>\n",
       "    <tr>\n",
       "      <th>92317</th>\n",
       "      <td>PL</td>\n",
       "      <td>PL</td>\n",
       "      <td>Sim</td>\n",
       "      <td>Coronel Tadeu</td>\n",
       "      <td>3</td>\n",
       "    </tr>\n",
       "    <tr>\n",
       "      <th>103673</th>\n",
       "      <td>PL</td>\n",
       "      <td>PL</td>\n",
       "      <td>Sim</td>\n",
       "      <td>Vitor Hugo</td>\n",
       "      <td>2</td>\n",
       "    </tr>\n",
       "    <tr>\n",
       "      <th>121383</th>\n",
       "      <td>PL</td>\n",
       "      <td>PL</td>\n",
       "      <td>Sim</td>\n",
       "      <td>Silvia Cristina</td>\n",
       "      <td>2</td>\n",
       "    </tr>\n",
       "    <tr>\n",
       "      <th>343849</th>\n",
       "      <td>PL</td>\n",
       "      <td>PL</td>\n",
       "      <td>Sim</td>\n",
       "      <td>Sanderson</td>\n",
       "      <td>2</td>\n",
       "    </tr>\n",
       "    <tr>\n",
       "      <th>102198</th>\n",
       "      <td>PL</td>\n",
       "      <td>PL</td>\n",
       "      <td>Sim</td>\n",
       "      <td>Rosana Valle</td>\n",
       "      <td>2</td>\n",
       "    </tr>\n",
       "  </tbody>\n",
       "</table>\n",
       "</div>"
      ],
      "text/plain": [
       "       label tipoProposicao voto          parlamentar  rank_votos\n",
       "27704     PL             PL  Sim  Sóstenes Cavalcante           3\n",
       "342395    PL             PL  Sim       Nelson Barbudo           3\n",
       "274993    PL             PL  Sim         Márcio Labre           3\n",
       "93573     PL             PL  Sim        Filipe Barros           3\n",
       "92952     PL             PL  Sim    Eduardo Bolsonaro           3\n",
       "92317     PL             PL  Sim        Coronel Tadeu           3\n",
       "103673    PL             PL  Sim           Vitor Hugo           2\n",
       "121383    PL             PL  Sim      Silvia Cristina           2\n",
       "343849    PL             PL  Sim            Sanderson           2\n",
       "102198    PL             PL  Sim         Rosana Valle           2"
      ]
     },
     "execution_count": 40,
     "metadata": {},
     "output_type": "execute_result"
    }
   ],
   "source": [
    "print('qtd parlamentares:',basometro_df[(basometro_df['label']=='PL') & (basometro_df['anoVotacao'].between(2019,2022))]['parlamentar'].nunique())\n",
    "\n",
    "mask = (basometro_df['idVotacao']=='12-4-2022.16.57.17232') & (basometro_df['label']=='PL')\n",
    "tmp = basometro_df[mask][['label','tipoProposicao','voto','parlamentar']]\n",
    "tmp['rank_votos'] = tmp.apply(lambda x: tmp[tmp['parlamentar']==x['parlamentar']].shape[0],axis=1)\n",
    "print(f\"df.shape: {tmp.shape}\")\n",
    "print(tmp['voto'].value_counts())\n",
    "\n",
    "tmp = tmp.drop_duplicates(subset=['voto','parlamentar'])\n",
    "print(f\"df.shape: {tmp.shape}\")\n",
    "print(tmp['voto'].value_counts())\n",
    "\n",
    "tmp.sort_values(by=['rank_votos','parlamentar'],ascending=[False,False]).head(10)"
   ]
  },
  {
   "cell_type": "markdown",
   "metadata": {},
   "source": [
    "Tudo indica ser um problema de registros duplicados. A análise tem diferentes perspectivas, como agrupados e pivôs mudando a granularidade. Além disso, a extração pode ter gerado isso uma vez que uma votação pode ter uma jornada dentro da câmar - o que possivelmente explique a duplicata. A duplicata pode aparecer pois atualmente olhamos o todo, desconsiderando a possivel jornada de uma dada votação. Algumas regras tiravam as duplicatas, mas nas outras que isso não acontecia fez aparecer as divergências.\n",
    "\n",
    "Com a identificação acima, fazendo este tratamente possivelmente solucionar este problema. Contudo, podemos notar que os valores totais ainda não se igualam, ou seja, ainda temos casos de registros que não foram computados. Talvez isso possa ficar no novo atributo 'ausente_calculado' após a correção."
   ]
  },
  {
   "cell_type": "markdown",
   "metadata": {},
   "source": []
  }
 ],
 "metadata": {
  "kernelspec": {
   "display_name": "mat_tree",
   "language": "python",
   "name": "python3"
  },
  "language_info": {
   "codemirror_mode": {
    "name": "ipython",
    "version": 3
   },
   "file_extension": ".py",
   "mimetype": "text/x-python",
   "name": "python",
   "nbconvert_exporter": "python",
   "pygments_lexer": "ipython3",
   "version": "3.9.13"
  }
 },
 "nbformat": 4,
 "nbformat_minor": 2
}
