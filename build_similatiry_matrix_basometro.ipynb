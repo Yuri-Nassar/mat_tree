{
 "cells": [
  {
   "cell_type": "markdown",
   "metadata": {},
   "source": [
    "# Import libs"
   ]
  },
  {
   "cell_type": "code",
   "execution_count": 34,
   "metadata": {},
   "outputs": [],
   "source": [
    "import pandas as pd\n",
    "import trajminer as tm\n",
    "from trajminer.similarity import MSM, MUITAS\n",
    "from trajminer.utils.distance import discrete, euclidean\n",
    "\n",
    "\n",
    "# from scipy.spatial.distance import euclidean"
   ]
  },
  {
   "cell_type": "markdown",
   "metadata": {},
   "source": [
    "# Code"
   ]
  },
  {
   "cell_type": "code",
   "execution_count": 18,
   "metadata": {},
   "outputs": [],
   "source": [
    "dtypes = {'UF':'string', 'voto':'category', 'orientacaoGoverno':'category', 'anoProposicao':'int32', \n",
    "          'anoVotacao':'int32', 'tipoProposicao':'category', 'governo':'category', 'parlamentar':'string', \n",
    "        #   'data':'datetime64[ns]',\n",
    "           'idVotacao':'string', 'tid':'int64', 'label':'category', 'horaVotacao':'int32', 'diaDaSemanaVotacao':'int32', 'diaDaSemanaVotacaoNome':'category', 'diaDoAno':'int32', 'diaDoMesVotacao':'int32', 'mesVotacao': 'int32', 'delayVotacaoAnos':'int32', 'alinhamento':'category'}\n",
    "dataset_path = \"datasets/basometro/basometro.csv\"\n",
    "basometro_df = pd.read_csv(dataset_path, encoding='latin-1', dtype=dtypes, parse_dates=['data'])"
   ]
  },
  {
   "cell_type": "code",
   "execution_count": 19,
   "metadata": {},
   "outputs": [
    {
     "name": "stdout",
     "output_type": "stream",
     "text": [
      "<class 'pandas.core.frame.DataFrame'>\n",
      "RangeIndex: 1048575 entries, 0 to 1048574\n",
      "Data columns (total 20 columns):\n",
      " #   Column                  Non-Null Count    Dtype         \n",
      "---  ------                  --------------    -----         \n",
      " 0   UF                      1048575 non-null  string        \n",
      " 1   voto                    1048575 non-null  category      \n",
      " 2   orientacaoGoverno       1048575 non-null  category      \n",
      " 3   anoProposicao           1048575 non-null  int32         \n",
      " 4   anoVotacao              1048575 non-null  int32         \n",
      " 5   tipoProposicao          1048575 non-null  category      \n",
      " 6   governo                 1048575 non-null  category      \n",
      " 7   parlamentar             1048575 non-null  string        \n",
      " 8   data                    1048575 non-null  datetime64[ns]\n",
      " 9   idVotacao               1048575 non-null  string        \n",
      " 10  tid                     1048575 non-null  int64         \n",
      " 11  label                   1048575 non-null  category      \n",
      " 12  horaVotacao             1048575 non-null  int32         \n",
      " 13  diaDaSemanaVotacao      1048575 non-null  int32         \n",
      " 14  diaDaSemanaVotacaoNome  1048575 non-null  category      \n",
      " 15  diaDoAno                1048575 non-null  int32         \n",
      " 16  diaDoMesVotacao         1048575 non-null  int32         \n",
      " 17  mesVotacao              1048575 non-null  int32         \n",
      " 18  delayVotacaoAnos        1048575 non-null  int32         \n",
      " 19  alinhamento             1048575 non-null  category      \n",
      "dtypes: category(7), datetime64[ns](1), int32(8), int64(1), string(3)\n",
      "memory usage: 79.0 MB\n"
     ]
    }
   ],
   "source": [
    "basometro_df.info()"
   ]
  },
  {
   "cell_type": "code",
   "execution_count": 9,
   "metadata": {},
   "outputs": [
    {
     "data": {
      "text/plain": [
       "(1048575, 20)"
      ]
     },
     "execution_count": 9,
     "metadata": {},
     "output_type": "execute_result"
    }
   ],
   "source": [
    "basometro_df.shape"
   ]
  },
  {
   "cell_type": "code",
   "execution_count": 26,
   "metadata": {},
   "outputs": [
    {
     "name": "stdout",
     "output_type": "stream",
     "text": [
      "(21, 20)\n",
      "(31, 20)\n"
     ]
    }
   ],
   "source": [
    "print(basometro_df[basometro_df.tid == 5318].shape)\n",
    "print(basometro_df[basometro_df.tid == 5319].shape)"
   ]
  },
  {
   "cell_type": "code",
   "execution_count": 44,
   "metadata": {},
   "outputs": [
    {
     "name": "stdout",
     "output_type": "stream",
     "text": [
      "   UF      parlamentar diaDaSemanaVotacaoNome label\n",
      "0  PR  Abelardo Lupion                Tuesday   DEM\n",
      "1  PR  Abelardo Lupion                Tuesday   DEM\n",
      "        UF     parlamentar diaDaSemanaVotacaoNome label\n",
      "410435  PB  Adauto Pereira                Tuesday   DEM\n",
      "410436  PB  Adauto Pereira              Wednesday   DEM\n"
     ]
    }
   ],
   "source": [
    "n_points = 2\n",
    "\n",
    "print(basometro_df[basometro_df.tid == 5318][['UF','parlamentar','diaDaSemanaVotacaoNome','label']].head(n_points))\n",
    "t1 = basometro_df[basometro_df.tid == 5318][['UF','parlamentar','diaDaSemanaVotacaoNome','label']].head(n_points).values\n",
    "\n",
    "print(basometro_df[basometro_df.tid == 5319][['UF','parlamentar','diaDaSemanaVotacaoNome','label']].head(n_points))\n",
    "t2 = basometro_df[basometro_df.tid == 5319][['UF','parlamentar','diaDaSemanaVotacaoNome','label']].head(n_points).values"
   ]
  },
  {
   "cell_type": "code",
   "execution_count": 45,
   "metadata": {},
   "outputs": [
    {
     "data": {
      "text/plain": [
       "0.4375"
      ]
     },
     "execution_count": 45,
     "metadata": {},
     "output_type": "execute_result"
    }
   ],
   "source": [
    "dist_funcs = [discrete,discrete,discrete,discrete]\n",
    "thres = [.5,.5,.5,.5]\n",
    "weights = [1,1,1,1]\n",
    "msm = MSM(dist_funcs, thres, weights)\n",
    "msm.similarity(t1,t2)"
   ]
  },
  {
   "cell_type": "code",
   "execution_count": null,
   "metadata": {},
   "outputs": [],
   "source": []
  },
  {
   "cell_type": "code",
   "execution_count": null,
   "metadata": {},
   "outputs": [],
   "source": []
  }
 ],
 "metadata": {
  "kernelspec": {
   "display_name": "mat_tree",
   "language": "python",
   "name": "python3"
  },
  "language_info": {
   "codemirror_mode": {
    "name": "ipython",
    "version": 3
   },
   "file_extension": ".py",
   "mimetype": "text/x-python",
   "name": "python",
   "nbconvert_exporter": "python",
   "pygments_lexer": "ipython3",
   "version": "3.9.13"
  }
 },
 "nbformat": 4,
 "nbformat_minor": 2
}
