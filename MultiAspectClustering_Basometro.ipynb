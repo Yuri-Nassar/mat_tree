{
  "cells": [
    {
      "cell_type": "markdown",
      "metadata": {
        "id": "view-in-github",
        "colab_type": "text"
      },
      "source": [
        "<a href=\"https://colab.research.google.com/github/Yuri-Nassar/mat_tree/blob/master/MultiAspectClustering_Basometro.ipynb\" target=\"_parent\"><img src=\"https://colab.research.google.com/assets/colab-badge.svg\" alt=\"Open In Colab\"/></a>"
      ]
    },
    {
      "cell_type": "markdown",
      "source": [
        "# Multi Aspect Clustering in Basometro Dataset"
      ],
      "metadata": {
        "id": "CsLIrH_eGHOs"
      }
    },
    {
      "cell_type": "markdown",
      "source": [
        "## Bibliotecas"
      ],
      "metadata": {
        "id": "oGV-dkIxGSJk"
      }
    },
    {
      "cell_type": "code",
      "execution_count": 3,
      "metadata": {
        "collapsed": true,
        "id": "86rxBvwpF_74",
        "outputId": "0bf0bc82-80d0-44fb-f188-39c73e70f9f8",
        "colab": {
          "base_uri": "https://localhost:8080/"
        }
      },
      "outputs": [
        {
          "output_type": "stream",
          "name": "stdout",
          "text": [
            "Looking in indexes: https://pypi.org/simple, https://us-python.pkg.dev/colab-wheels/public/simple/\n",
            "Requirement already satisfied: gdown in /usr/local/lib/python3.10/dist-packages (4.7.1)\n",
            "Requirement already satisfied: filelock in /usr/local/lib/python3.10/dist-packages (from gdown) (3.12.0)\n",
            "Requirement already satisfied: requests[socks] in /usr/local/lib/python3.10/dist-packages (from gdown) (2.27.1)\n",
            "Requirement already satisfied: six in /usr/local/lib/python3.10/dist-packages (from gdown) (1.16.0)\n",
            "Requirement already satisfied: tqdm in /usr/local/lib/python3.10/dist-packages (from gdown) (4.65.0)\n",
            "Requirement already satisfied: beautifulsoup4 in /usr/local/lib/python3.10/dist-packages (from gdown) (4.11.2)\n",
            "Requirement already satisfied: soupsieve>1.2 in /usr/local/lib/python3.10/dist-packages (from beautifulsoup4->gdown) (2.4.1)\n",
            "Requirement already satisfied: urllib3<1.27,>=1.21.1 in /usr/local/lib/python3.10/dist-packages (from requests[socks]->gdown) (1.26.15)\n",
            "Requirement already satisfied: certifi>=2017.4.17 in /usr/local/lib/python3.10/dist-packages (from requests[socks]->gdown) (2022.12.7)\n",
            "Requirement already satisfied: charset-normalizer~=2.0.0 in /usr/local/lib/python3.10/dist-packages (from requests[socks]->gdown) (2.0.12)\n",
            "Requirement already satisfied: idna<4,>=2.5 in /usr/local/lib/python3.10/dist-packages (from requests[socks]->gdown) (3.4)\n",
            "Requirement already satisfied: PySocks!=1.5.7,>=1.5.6 in /usr/local/lib/python3.10/dist-packages (from requests[socks]->gdown) (1.7.1)\n"
          ]
        }
      ],
      "source": [
        "import pandas as pd\n",
        "!pip install --upgrade --no-cache-dir gdown\n",
        "from google.colab import drive\n",
        "import os\n"
      ]
    },
    {
      "cell_type": "markdown",
      "source": [
        "## Dataset"
      ],
      "metadata": {
        "id": "iDghAb8WGTM5"
      }
    },
    {
      "cell_type": "code",
      "source": [
        "!gdown 1NvjBXQhBDPdc_96QZu4HzBnifOfaUaLz\n",
        "!gdown 1bh51X0rDtnBWVZqKGhVBRFEuTATDW0ga\n",
        "!gdown 1VRaqQz-R0hhK9aM_lgmjxZioT1_N3KJW"
      ],
      "metadata": {
        "id": "r7VzHynzGf5V",
        "outputId": "5c8bc78e-1853-4ed0-8962-4cf0c9d57606",
        "colab": {
          "base_uri": "https://localhost:8080/"
        }
      },
      "execution_count": 4,
      "outputs": [
        {
          "output_type": "stream",
          "name": "stdout",
          "text": [
            "Downloading...\n",
            "From (uriginal): https://drive.google.com/uc?id=1NvjBXQhBDPdc_96QZu4HzBnifOfaUaLz\n",
            "From (redirected): https://drive.google.com/uc?id=1NvjBXQhBDPdc_96QZu4HzBnifOfaUaLz&confirm=t&uuid=e87146ef-7332-4df4-b5db-20bcaf69f65c\n",
            "To: /content/2022-09-28_6M_specific.csv\n",
            "100% 155M/155M [00:00<00:00, 200MB/s]\n",
            "Downloading...\n",
            "From (uriginal): https://drive.google.com/uc?id=1bh51X0rDtnBWVZqKGhVBRFEuTATDW0ga\n",
            "From (redirected): https://drive.google.com/uc?id=1bh51X0rDtnBWVZqKGhVBRFEuTATDW0ga&confirm=t&uuid=9d344a73-de96-437d-8978-93e6db2c1658\n",
            "To: /content/2022-09-28_6M_specific_lcss_compressed.csv\n",
            "100% 1.21G/1.21G [00:05<00:00, 221MB/s]\n",
            "Downloading...\n",
            "From (uriginal): https://drive.google.com/uc?id=1VRaqQz-R0hhK9aM_lgmjxZioT1_N3KJW\n",
            "From (redirected): https://drive.google.com/uc?id=1VRaqQz-R0hhK9aM_lgmjxZioT1_N3KJW&confirm=t&uuid=2c68ae9f-302e-4cda-ad99-43bd9b45dc72\n",
            "To: /content/2022-09-28_6M_specific_edr_compressed.csv\n",
            "100% 1.21G/1.21G [00:08<00:00, 140MB/s]\n"
          ]
        }
      ]
    },
    {
      "cell_type": "markdown",
      "source": [
        "| Dataframe | Description                                  |\n",
        "|-----------|----------------------------------------------|\n",
        "| df        | Basômetro csv file                           |\n",
        "| df_muitas | MUITAS matrix file                           |\n",
        "| df_msm    | MSM matrix file                              |\n",
        "| df_edr    | Edit distance for real dequence matrix file  |\n",
        "| df_lcss   | Longest common subsequence matrix file       |"
      ],
      "metadata": {
        "id": "iWclnR1wGUsq"
      }
    },
    {
      "cell_type": "code",
      "source": [
        "df = pd.read_csv(\"/content/2022-09-28_6M_specific.csv\")\n",
        "# df_muitas = pd.read_csv('df_muitas_50.csv')\n",
        "# df_msm = pd.read_csv('df_msm_50.csv')\n",
        "#df_edr = pd.read_csv('/content/2022-09-28_6M_specific_edr_compressed.csv')\n",
        "#df_lcss = pd.read_csv('/content/2022-09-28_6M_specific_lcss_compressed.csv')\n",
        "\n",
        "#df_muitas = df_edr\n",
        "#df_msm = df_lcss"
      ],
      "metadata": {
        "id": "RfMuBruKGqQR"
      },
      "execution_count": 5,
      "outputs": []
    },
    {
      "cell_type": "markdown",
      "source": [
        "## Execução"
      ],
      "metadata": {
        "id": "LmZvm5rtuDDd"
      }
    },
    {
      "cell_type": "markdown",
      "source": [
        "### Criação da Árvore"
      ],
      "metadata": {
        "id": "v7U2LvCquIT0"
      }
    },
    {
      "cell_type": "code",
      "source": [
        "from local.basometro.dashboard.TreeNodeObject import TreeNodeObject\n",
        "from local.basometro.dashboard.dashtree import dashtree\n",
        "from local.basometro.dashboard.graphic_tree import generate_graphic_tree\n",
        "\n",
        "self = TreeNodeObject(df=df)\n"
      ],
      "metadata": {
        "id": "MZ0tH1byuK9k",
        "outputId": "aeb528c2-0198-441f-e8f0-b11d4e1a315f",
        "colab": {
          "base_uri": "https://localhost:8080/",
          "height": 373
        }
      },
      "execution_count": 6,
      "outputs": [
        {
          "output_type": "error",
          "ename": "ModuleNotFoundError",
          "evalue": "ignored",
          "traceback": [
            "\u001b[0;31m---------------------------------------------------------------------------\u001b[0m",
            "\u001b[0;31mModuleNotFoundError\u001b[0m                       Traceback (most recent call last)",
            "\u001b[0;32m<ipython-input-6-1bb4c46fd499>\u001b[0m in \u001b[0;36m<cell line: 1>\u001b[0;34m()\u001b[0m\n\u001b[0;32m----> 1\u001b[0;31m \u001b[0;32mfrom\u001b[0m \u001b[0mlocal\u001b[0m\u001b[0;34m.\u001b[0m\u001b[0mbasometro\u001b[0m\u001b[0;34m.\u001b[0m\u001b[0mdashboard\u001b[0m\u001b[0;34m.\u001b[0m\u001b[0mTreeNodeObject\u001b[0m \u001b[0;32mimport\u001b[0m \u001b[0mTreeNodeObject\u001b[0m\u001b[0;34m\u001b[0m\u001b[0;34m\u001b[0m\u001b[0m\n\u001b[0m\u001b[1;32m      2\u001b[0m \u001b[0;32mfrom\u001b[0m \u001b[0mlocal\u001b[0m\u001b[0;34m.\u001b[0m\u001b[0mbasometro\u001b[0m\u001b[0;34m.\u001b[0m\u001b[0mdashboard\u001b[0m\u001b[0;34m.\u001b[0m\u001b[0mdashtree\u001b[0m \u001b[0;32mimport\u001b[0m \u001b[0mdashtree\u001b[0m\u001b[0;34m\u001b[0m\u001b[0;34m\u001b[0m\u001b[0m\n\u001b[1;32m      3\u001b[0m \u001b[0;32mfrom\u001b[0m \u001b[0mlocal\u001b[0m\u001b[0;34m.\u001b[0m\u001b[0mbasometro\u001b[0m\u001b[0;34m.\u001b[0m\u001b[0mdashboard\u001b[0m\u001b[0;34m.\u001b[0m\u001b[0mgraphic_tree\u001b[0m \u001b[0;32mimport\u001b[0m \u001b[0mgenerate_graphic_tree\u001b[0m\u001b[0;34m\u001b[0m\u001b[0;34m\u001b[0m\u001b[0m\n\u001b[1;32m      4\u001b[0m \u001b[0;34m\u001b[0m\u001b[0m\n\u001b[1;32m      5\u001b[0m \u001b[0mself\u001b[0m \u001b[0;34m=\u001b[0m \u001b[0mTreeNodeObject\u001b[0m\u001b[0;34m(\u001b[0m\u001b[0mdf\u001b[0m\u001b[0;34m=\u001b[0m\u001b[0mdf\u001b[0m\u001b[0;34m)\u001b[0m\u001b[0;34m\u001b[0m\u001b[0;34m\u001b[0m\u001b[0m\n",
            "\u001b[0;31mModuleNotFoundError\u001b[0m: No module named 'local'",
            "",
            "\u001b[0;31m---------------------------------------------------------------------------\u001b[0;32m\nNOTE: If your import is failing due to a missing package, you can\nmanually install dependencies using either !pip or !apt.\n\nTo view examples of installing some common dependencies, click the\n\"Open Examples\" button below.\n\u001b[0;31m---------------------------------------------------------------------------\u001b[0m\n"
          ],
          "errorDetails": {
            "actions": [
              {
                "action": "open_url",
                "actionText": "Open Examples",
                "url": "/notebooks/snippets/importing_libraries.ipynb"
              }
            ]
          }
        }
      ]
    }
  ],
  "metadata": {
    "kernelspec": {
      "display_name": "Python 3",
      "language": "python",
      "name": "python3"
    },
    "language_info": {
      "codemirror_mode": {
        "name": "ipython",
        "version": 2
      },
      "file_extension": ".py",
      "mimetype": "text/x-python",
      "name": "python",
      "nbconvert_exporter": "python",
      "pygments_lexer": "ipython2",
      "version": "2.7.6"
    },
    "colab": {
      "provenance": [],
      "include_colab_link": true
    }
  },
  "nbformat": 4,
  "nbformat_minor": 0
}